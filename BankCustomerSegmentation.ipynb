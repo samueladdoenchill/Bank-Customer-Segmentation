{
 "cells": [
  {
   "attachments": {},
   "cell_type": "markdown",
   "metadata": {},
   "source": [
    "# Bank Customer Segmentation\n",
    "\n",
    "In this kernel I will perform segmentation of German bank customers. The first step is to read necessary libraries. We will use: \n",
    "* [pandas](https://pandas.pydata.org/) - to manipulate data frames\n",
    "* [numpy](http://www.numpy.org/) - providing linear algebra\n",
    "* [seaborm](https://seaborn.pydata.org/) - to create nice visualizations\n",
    "* [matplotlib](https://matplotlib.org/) - basic tools for visualizations\n",
    "* [scikit-learn](https://scikit-learn.org/stable/) - machine learning library\n"
   ]
  },
  {
   "cell_type": "code",
   "execution_count": 2,
   "metadata": {},
   "outputs": [],
   "source": [
    "import pandas as pd\n",
    "import numpy as np\n",
    "import seaborn as sns\n",
    "import matplotlib.pyplot as plt\n",
    "from sklearn.preprocessing import StandardScaler\n",
    "from sklearn.cluster import KMeans, AffinityPropagation\n",
    "import warnings\n",
    "import plotly.express as px\n",
    "from sklearn.cluster import KMeans\n",
    "from sklearn.decomposition import PCA\n",
    "from sklearn.metrics import silhouette_score\n",
    "from sklearn.pipeline import make_pipeline\n",
    "from sklearn.preprocessing import StandardScaler"
   ]
  },
  {
   "attachments": {},
   "cell_type": "markdown",
   "metadata": {},
   "source": [
    "Reading the raw data "
   ]
  },
  {
   "cell_type": "code",
   "execution_count": 3,
   "metadata": {},
   "outputs": [
    {
     "data": {
      "text/html": [
       "<div>\n",
       "<style scoped>\n",
       "    .dataframe tbody tr th:only-of-type {\n",
       "        vertical-align: middle;\n",
       "    }\n",
       "\n",
       "    .dataframe tbody tr th {\n",
       "        vertical-align: top;\n",
       "    }\n",
       "\n",
       "    .dataframe thead th {\n",
       "        text-align: right;\n",
       "    }\n",
       "</style>\n",
       "<table border=\"1\" class=\"dataframe\">\n",
       "  <thead>\n",
       "    <tr style=\"text-align: right;\">\n",
       "      <th></th>\n",
       "      <th>Unnamed: 0</th>\n",
       "      <th>Age</th>\n",
       "      <th>Sex</th>\n",
       "      <th>Job</th>\n",
       "      <th>Housing</th>\n",
       "      <th>Saving accounts</th>\n",
       "      <th>Checking account</th>\n",
       "      <th>Credit amount</th>\n",
       "      <th>Duration</th>\n",
       "      <th>Purpose</th>\n",
       "    </tr>\n",
       "  </thead>\n",
       "  <tbody>\n",
       "    <tr>\n",
       "      <th>0</th>\n",
       "      <td>0</td>\n",
       "      <td>67</td>\n",
       "      <td>male</td>\n",
       "      <td>2</td>\n",
       "      <td>own</td>\n",
       "      <td>NaN</td>\n",
       "      <td>little</td>\n",
       "      <td>1169</td>\n",
       "      <td>6</td>\n",
       "      <td>radio/TV</td>\n",
       "    </tr>\n",
       "    <tr>\n",
       "      <th>1</th>\n",
       "      <td>1</td>\n",
       "      <td>22</td>\n",
       "      <td>female</td>\n",
       "      <td>2</td>\n",
       "      <td>own</td>\n",
       "      <td>little</td>\n",
       "      <td>moderate</td>\n",
       "      <td>5951</td>\n",
       "      <td>48</td>\n",
       "      <td>radio/TV</td>\n",
       "    </tr>\n",
       "    <tr>\n",
       "      <th>2</th>\n",
       "      <td>2</td>\n",
       "      <td>49</td>\n",
       "      <td>male</td>\n",
       "      <td>1</td>\n",
       "      <td>own</td>\n",
       "      <td>little</td>\n",
       "      <td>NaN</td>\n",
       "      <td>2096</td>\n",
       "      <td>12</td>\n",
       "      <td>education</td>\n",
       "    </tr>\n",
       "    <tr>\n",
       "      <th>3</th>\n",
       "      <td>3</td>\n",
       "      <td>45</td>\n",
       "      <td>male</td>\n",
       "      <td>2</td>\n",
       "      <td>free</td>\n",
       "      <td>little</td>\n",
       "      <td>little</td>\n",
       "      <td>7882</td>\n",
       "      <td>42</td>\n",
       "      <td>furniture/equipment</td>\n",
       "    </tr>\n",
       "    <tr>\n",
       "      <th>4</th>\n",
       "      <td>4</td>\n",
       "      <td>53</td>\n",
       "      <td>male</td>\n",
       "      <td>2</td>\n",
       "      <td>free</td>\n",
       "      <td>little</td>\n",
       "      <td>little</td>\n",
       "      <td>4870</td>\n",
       "      <td>24</td>\n",
       "      <td>car</td>\n",
       "    </tr>\n",
       "  </tbody>\n",
       "</table>\n",
       "</div>"
      ],
      "text/plain": [
       "   Unnamed: 0  Age     Sex  Job Housing Saving accounts Checking account  \\\n",
       "0           0   67    male    2     own             NaN           little   \n",
       "1           1   22  female    2     own          little         moderate   \n",
       "2           2   49    male    1     own          little              NaN   \n",
       "3           3   45    male    2    free          little           little   \n",
       "4           4   53    male    2    free          little           little   \n",
       "\n",
       "   Credit amount  Duration              Purpose  \n",
       "0           1169         6             radio/TV  \n",
       "1           5951        48             radio/TV  \n",
       "2           2096        12            education  \n",
       "3           7882        42  furniture/equipment  \n",
       "4           4870        24                  car  "
      ]
     },
     "execution_count": 3,
     "metadata": {},
     "output_type": "execute_result"
    }
   ],
   "source": [
    "data = pd.read_csv(\"german_credit_data.csv\")\n",
    "data.head()"
   ]
  },
  {
   "attachments": {},
   "cell_type": "markdown",
   "metadata": {},
   "source": [
    "It looks that the first column is simply an index so we delete it."
   ]
  },
  {
   "cell_type": "code",
   "execution_count": 4,
   "metadata": {},
   "outputs": [
    {
     "data": {
      "text/html": [
       "<div>\n",
       "<style scoped>\n",
       "    .dataframe tbody tr th:only-of-type {\n",
       "        vertical-align: middle;\n",
       "    }\n",
       "\n",
       "    .dataframe tbody tr th {\n",
       "        vertical-align: top;\n",
       "    }\n",
       "\n",
       "    .dataframe thead th {\n",
       "        text-align: right;\n",
       "    }\n",
       "</style>\n",
       "<table border=\"1\" class=\"dataframe\">\n",
       "  <thead>\n",
       "    <tr style=\"text-align: right;\">\n",
       "      <th></th>\n",
       "      <th>Age</th>\n",
       "      <th>Sex</th>\n",
       "      <th>Job</th>\n",
       "      <th>Housing</th>\n",
       "      <th>Saving accounts</th>\n",
       "      <th>Checking account</th>\n",
       "      <th>Credit amount</th>\n",
       "      <th>Duration</th>\n",
       "      <th>Purpose</th>\n",
       "    </tr>\n",
       "  </thead>\n",
       "  <tbody>\n",
       "    <tr>\n",
       "      <th>0</th>\n",
       "      <td>67</td>\n",
       "      <td>male</td>\n",
       "      <td>2</td>\n",
       "      <td>own</td>\n",
       "      <td>NaN</td>\n",
       "      <td>little</td>\n",
       "      <td>1169</td>\n",
       "      <td>6</td>\n",
       "      <td>radio/TV</td>\n",
       "    </tr>\n",
       "    <tr>\n",
       "      <th>1</th>\n",
       "      <td>22</td>\n",
       "      <td>female</td>\n",
       "      <td>2</td>\n",
       "      <td>own</td>\n",
       "      <td>little</td>\n",
       "      <td>moderate</td>\n",
       "      <td>5951</td>\n",
       "      <td>48</td>\n",
       "      <td>radio/TV</td>\n",
       "    </tr>\n",
       "    <tr>\n",
       "      <th>2</th>\n",
       "      <td>49</td>\n",
       "      <td>male</td>\n",
       "      <td>1</td>\n",
       "      <td>own</td>\n",
       "      <td>little</td>\n",
       "      <td>NaN</td>\n",
       "      <td>2096</td>\n",
       "      <td>12</td>\n",
       "      <td>education</td>\n",
       "    </tr>\n",
       "    <tr>\n",
       "      <th>3</th>\n",
       "      <td>45</td>\n",
       "      <td>male</td>\n",
       "      <td>2</td>\n",
       "      <td>free</td>\n",
       "      <td>little</td>\n",
       "      <td>little</td>\n",
       "      <td>7882</td>\n",
       "      <td>42</td>\n",
       "      <td>furniture/equipment</td>\n",
       "    </tr>\n",
       "    <tr>\n",
       "      <th>4</th>\n",
       "      <td>53</td>\n",
       "      <td>male</td>\n",
       "      <td>2</td>\n",
       "      <td>free</td>\n",
       "      <td>little</td>\n",
       "      <td>little</td>\n",
       "      <td>4870</td>\n",
       "      <td>24</td>\n",
       "      <td>car</td>\n",
       "    </tr>\n",
       "  </tbody>\n",
       "</table>\n",
       "</div>"
      ],
      "text/plain": [
       "   Age     Sex  Job Housing Saving accounts Checking account  Credit amount  \\\n",
       "0   67    male    2     own             NaN           little           1169   \n",
       "1   22  female    2     own          little         moderate           5951   \n",
       "2   49    male    1     own          little              NaN           2096   \n",
       "3   45    male    2    free          little           little           7882   \n",
       "4   53    male    2    free          little           little           4870   \n",
       "\n",
       "   Duration              Purpose  \n",
       "0         6             radio/TV  \n",
       "1        48             radio/TV  \n",
       "2        12            education  \n",
       "3        42  furniture/equipment  \n",
       "4        24                  car  "
      ]
     },
     "execution_count": 4,
     "metadata": {},
     "output_type": "execute_result"
    }
   ],
   "source": [
    "data.drop(data.columns[0], inplace=True, axis=1)\n",
    "data.head()"
   ]
  },
  {
   "cell_type": "code",
   "execution_count": 5,
   "metadata": {},
   "outputs": [
    {
     "name": "stdout",
     "output_type": "stream",
     "text": [
      "The dataset has 1000 number of observations (customers) and 9 number of columns (attritubes)\n"
     ]
    }
   ],
   "source": [
    "print(\"The dataset has\", data.shape[0], \"number of observations (customers) and\", data.shape[1], \"number of columns (attritubes)\")"
   ]
  },
  {
   "attachments": {},
   "cell_type": "markdown",
   "metadata": {},
   "source": [
    "Checking for missing values."
   ]
  },
  {
   "cell_type": "code",
   "execution_count": 6,
   "metadata": {},
   "outputs": [],
   "source": [
    "def missing (df):\n",
    "    missing_number = df.isnull().sum().sort_values(ascending=False)\n",
    "    missing_percent = ((df.isnull().sum()/df.isnull().count())*100).sort_values(ascending=False)\n",
    "    missing_values = pd.concat([missing_number, missing_percent], axis=1, keys=['Missing_Number', 'Missing_Percent (%)'])\n",
    "    return missing_values"
   ]
  },
  {
   "cell_type": "code",
   "execution_count": 7,
   "metadata": {},
   "outputs": [
    {
     "data": {
      "text/html": [
       "<div>\n",
       "<style scoped>\n",
       "    .dataframe tbody tr th:only-of-type {\n",
       "        vertical-align: middle;\n",
       "    }\n",
       "\n",
       "    .dataframe tbody tr th {\n",
       "        vertical-align: top;\n",
       "    }\n",
       "\n",
       "    .dataframe thead th {\n",
       "        text-align: right;\n",
       "    }\n",
       "</style>\n",
       "<table border=\"1\" class=\"dataframe\">\n",
       "  <thead>\n",
       "    <tr style=\"text-align: right;\">\n",
       "      <th></th>\n",
       "      <th>Missing_Number</th>\n",
       "      <th>Missing_Percent (%)</th>\n",
       "    </tr>\n",
       "  </thead>\n",
       "  <tbody>\n",
       "    <tr>\n",
       "      <th>Checking account</th>\n",
       "      <td>394</td>\n",
       "      <td>39.4</td>\n",
       "    </tr>\n",
       "    <tr>\n",
       "      <th>Saving accounts</th>\n",
       "      <td>183</td>\n",
       "      <td>18.3</td>\n",
       "    </tr>\n",
       "    <tr>\n",
       "      <th>Age</th>\n",
       "      <td>0</td>\n",
       "      <td>0.0</td>\n",
       "    </tr>\n",
       "    <tr>\n",
       "      <th>Sex</th>\n",
       "      <td>0</td>\n",
       "      <td>0.0</td>\n",
       "    </tr>\n",
       "    <tr>\n",
       "      <th>Job</th>\n",
       "      <td>0</td>\n",
       "      <td>0.0</td>\n",
       "    </tr>\n",
       "    <tr>\n",
       "      <th>Housing</th>\n",
       "      <td>0</td>\n",
       "      <td>0.0</td>\n",
       "    </tr>\n",
       "    <tr>\n",
       "      <th>Credit amount</th>\n",
       "      <td>0</td>\n",
       "      <td>0.0</td>\n",
       "    </tr>\n",
       "    <tr>\n",
       "      <th>Duration</th>\n",
       "      <td>0</td>\n",
       "      <td>0.0</td>\n",
       "    </tr>\n",
       "    <tr>\n",
       "      <th>Purpose</th>\n",
       "      <td>0</td>\n",
       "      <td>0.0</td>\n",
       "    </tr>\n",
       "  </tbody>\n",
       "</table>\n",
       "</div>"
      ],
      "text/plain": [
       "                  Missing_Number  Missing_Percent (%)\n",
       "Checking account             394                 39.4\n",
       "Saving accounts              183                 18.3\n",
       "Age                            0                  0.0\n",
       "Sex                            0                  0.0\n",
       "Job                            0                  0.0\n",
       "Housing                        0                  0.0\n",
       "Credit amount                  0                  0.0\n",
       "Duration                       0                  0.0\n",
       "Purpose                        0                  0.0"
      ]
     },
     "execution_count": 7,
     "metadata": {},
     "output_type": "execute_result"
    }
   ],
   "source": [
    "missing (data)"
   ]
  },
  {
   "attachments": {},
   "cell_type": "markdown",
   "metadata": {},
   "source": [
    "Only columns: Checking account and Savings account had missing values."
   ]
  },
  {
   "cell_type": "code",
   "execution_count": 8,
   "metadata": {},
   "outputs": [
    {
     "name": "stdout",
     "output_type": "stream",
     "text": [
      "Columns data types:\n",
      "Age                  int64\n",
      "Sex                 object\n",
      "Job                  int64\n",
      "Housing             object\n",
      "Saving accounts     object\n",
      "Checking account    object\n",
      "Credit amount        int64\n",
      "Duration             int64\n",
      "Purpose             object\n",
      "dtype: object\n"
     ]
    }
   ],
   "source": [
    "print(\"Columns data types:\\n{}\".format(data.dtypes))"
   ]
  },
  {
   "attachments": {},
   "cell_type": "markdown",
   "metadata": {},
   "source": [
    "There are 3 numeric variables and 5 categorical ones.\n",
    "\n",
    "Let's check how many, and what are the possible (unique) values in each categorical column."
   ]
  },
  {
   "cell_type": "code",
   "execution_count": 9,
   "metadata": {},
   "outputs": [
    {
     "name": "stdout",
     "output_type": "stream",
     "text": [
      "Unique values in each categorical column:\n",
      "Sex : ['male' 'female']\n",
      "Housing : ['own' 'free' 'rent']\n",
      "Saving accounts : [nan 'little' 'quite rich' 'rich' 'moderate']\n",
      "Checking account : ['little' 'moderate' nan 'rich']\n",
      "Purpose : ['radio/TV' 'education' 'furniture/equipment' 'car' 'business'\n",
      " 'domestic appliances' 'repairs' 'vacation/others']\n"
     ]
    }
   ],
   "source": [
    "print(\"Unique values in each categorical column:\")\n",
    "for col in data.select_dtypes(include=[object]):\n",
    "    print(col,\":\", data[col].unique())"
   ]
  },
  {
   "attachments": {},
   "cell_type": "markdown",
   "metadata": {},
   "source": [
    "## Exploratory Data Analysis.\n",
    "\n",
    "**Scatter plot of the three numerical variables.**"
   ]
  },
  {
   "cell_type": "code",
   "execution_count": 10,
   "metadata": {},
   "outputs": [],
   "source": [
    "def scatters(data, h=None, pal=None):\n",
    "    fig, (ax1, ax2, ax3) = plt.subplots(3,1, figsize=(8,8))\n",
    "    sns.scatterplot(x=\"Credit amount\",y=\"Duration\", hue=h, palette=pal, data=data, ax=ax1).set(title=\"Scatter plot of Credit Amount and Duration\")\n",
    "    sns.scatterplot(x=\"Credit amount\",y=\"Age\", hue=h, palette=pal, data=data, ax=ax2).set(title=\"Scatter plot of Credit Amount and Age\")\n",
    "    sns.scatterplot(x=\"Age\",y=\"Duration\", hue=h, palette=pal, data=data, ax=ax3).set(title=\"Scatter plot of Age and Duration\")\n",
    "    plt.tight_layout()"
   ]
  },
  {
   "cell_type": "code",
   "execution_count": 11,
   "metadata": {},
   "outputs": [
    {
     "data": {
      "image/png": "[encoded data removed]",
      "text/plain": [
       "<Figure size 800x800 with 3 Axes>"
      ]
     },
     "metadata": {},
     "output_type": "display_data"
    }
   ],
   "source": [
    "scatters(data, h=\"Sex\")"
   ]
  },
  {
   "attachments": {},
   "cell_type": "markdown",
   "metadata": {},
   "source": [
    "From the top plot, there is `no clear difference` between `men and women` in terms of `amount and duration` of the credit. Also it seems that there is a `positive correlation between duration and amount of credit`. "
   ]
  },
  {
   "attachments": {},
   "cell_type": "markdown",
   "metadata": {},
   "source": [
    "**Barplot of credits and purpose of loans**"
   ]
  },
  {
   "cell_type": "code",
   "execution_count": 12,
   "metadata": {},
   "outputs": [
    {
     "data": {
      "image/png": "[encoded data removed]",
      "text/plain": [
       "<Figure size 1000x600 with 1 Axes>"
      ]
     },
     "metadata": {},
     "output_type": "display_data"
    }
   ],
   "source": [
    "n_credits = data.groupby(\"Purpose\")[\"Purpose\"].count().rename(\"Count\").reset_index()\n",
    "n_credits.sort_values(by=[\"Count\"], ascending=False, inplace=True)\n",
    "\n",
    "plt.figure(figsize=(10,6))\n",
    "bar = sns.barplot(x=\"Purpose\",y=\"Count\",data=n_credits)\n",
    "bar.set_xticklabels(bar.get_xticklabels(), rotation=60)\n",
    "plt.xlabel(\"Purpose of Loan\")\n",
    "plt.ylabel(\"Number of granted credits\")\n",
    "plt.title(\"A Barplot of Credits and Purpose of Loans.\")\n",
    "plt.tight_layout()"
   ]
  },
  {
   "attachments": {},
   "cell_type": "markdown",
   "metadata": {},
   "source": [
    "`Most` of the credits were granted on `car`, `radio/TV` and `furniture/equipment` loans, whiles `domestic appliances` and `vacations/others` were granted the `least` loans."
   ]
  },
  {
   "attachments": {},
   "cell_type": "markdown",
   "metadata": {},
   "source": [
    "**Clustering with KMeans**\n",
    "\n",
    "I will create a subset containing only numerical variables (Age, Credit amount, Duration). "
   ]
  },
  {
   "cell_type": "code",
   "execution_count": 13,
   "metadata": {},
   "outputs": [],
   "source": [
    "#Selecting columns for clusterisation with k-means\n",
    "selected_cols = [\"Age\",\"Credit amount\", \"Duration\"]\n",
    "X = data.loc[:,selected_cols]"
   ]
  },
  {
   "attachments": {},
   "cell_type": "markdown",
   "metadata": {},
   "source": [
    "Lets create a function to look at the distribution of the variables."
   ]
  },
  {
   "cell_type": "code",
   "execution_count": 14,
   "metadata": {},
   "outputs": [],
   "source": [
    "\n",
    "def distributions(df):\n",
    "    sns.displot(df[\"Age\"])\n",
    "    sns.displot(df[\"Credit amount\"])\n",
    "    sns.displot(df[\"Duration\"])\n",
    "    plt.tight_layout()"
   ]
  },
  {
   "cell_type": "code",
   "execution_count": 15,
   "metadata": {},
   "outputs": [
    {
     "data": {
      "image/png": "[encoded data removed]",
      "text/plain": [
       "<Figure size 500x500 with 1 Axes>"
      ]
     },
     "metadata": {},
     "output_type": "display_data"
    },
    {
     "data": {
      "image/png": "[encoded data removed]",
      "text/plain": [
       "<Figure size 500x500 with 1 Axes>"
      ]
     },
     "metadata": {},
     "output_type": "display_data"
    },
    {
     "data": {
      "image/png": "[encoded data removed]",
      "text/plain": [
       "<Figure size 500x500 with 1 Axes>"
      ]
     },
     "metadata": {},
     "output_type": "display_data"
    }
   ],
   "source": [
    "distributions(X)"
   ]
  },
  {
   "attachments": {},
   "cell_type": "markdown",
   "metadata": {},
   "source": [
    "The distributions are right-skewed. We will use logarithmic transformation to remove the skewness.\n",
    "\n",
    "After lets look at our new distribution."
   ]
  },
  {
   "cell_type": "code",
   "execution_count": 16,
   "metadata": {},
   "outputs": [
    {
     "data": {
      "image/png": "[encoded data removed]",
      "text/plain": [
       "<Figure size 500x500 with 1 Axes>"
      ]
     },
     "metadata": {},
     "output_type": "display_data"
    },
    {
     "data": {
      "image/png": "[encoded data removed]",
      "text/plain": [
       "<Figure size 500x500 with 1 Axes>"
      ]
     },
     "metadata": {},
     "output_type": "display_data"
    },
    {
     "data": {
      "image/png": "[encoded data removed]",
      "text/plain": [
       "<Figure size 500x500 with 1 Axes>"
      ]
     },
     "metadata": {},
     "output_type": "display_data"
    }
   ],
   "source": [
    "cluster_log = np.log(X)\n",
    "distributions(cluster_log)"
   ]
  },
  {
   "cell_type": "code",
   "execution_count": 17,
   "metadata": {},
   "outputs": [
    {
     "data": {
      "text/html": [
       "<div>\n",
       "<style scoped>\n",
       "    .dataframe tbody tr th:only-of-type {\n",
       "        vertical-align: middle;\n",
       "    }\n",
       "\n",
       "    .dataframe tbody tr th {\n",
       "        vertical-align: top;\n",
       "    }\n",
       "\n",
       "    .dataframe thead th {\n",
       "        text-align: right;\n",
       "    }\n",
       "</style>\n",
       "<table border=\"1\" class=\"dataframe\">\n",
       "  <thead>\n",
       "    <tr style=\"text-align: right;\">\n",
       "      <th></th>\n",
       "      <th>Age</th>\n",
       "      <th>Credit amount</th>\n",
       "      <th>Duration</th>\n",
       "    </tr>\n",
       "  </thead>\n",
       "  <tbody>\n",
       "    <tr>\n",
       "      <th>0</th>\n",
       "      <td>4.204693</td>\n",
       "      <td>7.063904</td>\n",
       "      <td>1.791759</td>\n",
       "    </tr>\n",
       "    <tr>\n",
       "      <th>1</th>\n",
       "      <td>3.091042</td>\n",
       "      <td>8.691315</td>\n",
       "      <td>3.871201</td>\n",
       "    </tr>\n",
       "    <tr>\n",
       "      <th>2</th>\n",
       "      <td>3.891820</td>\n",
       "      <td>7.647786</td>\n",
       "      <td>2.484907</td>\n",
       "    </tr>\n",
       "    <tr>\n",
       "      <th>3</th>\n",
       "      <td>3.806662</td>\n",
       "      <td>8.972337</td>\n",
       "      <td>3.737670</td>\n",
       "    </tr>\n",
       "    <tr>\n",
       "      <th>4</th>\n",
       "      <td>3.970292</td>\n",
       "      <td>8.490849</td>\n",
       "      <td>3.178054</td>\n",
       "    </tr>\n",
       "  </tbody>\n",
       "</table>\n",
       "</div>"
      ],
      "text/plain": [
       "        Age  Credit amount  Duration\n",
       "0  4.204693       7.063904  1.791759\n",
       "1  3.091042       8.691315  3.871201\n",
       "2  3.891820       7.647786  2.484907\n",
       "3  3.806662       8.972337  3.737670\n",
       "4  3.970292       8.490849  3.178054"
      ]
     },
     "execution_count": 17,
     "metadata": {},
     "output_type": "execute_result"
    }
   ],
   "source": [
    "cluster_log.head()"
   ]
  },
  {
   "attachments": {},
   "cell_type": "markdown",
   "metadata": {},
   "source": [
    "The skewness has been eliminated. \n",
    "\n",
    "## Model Building.\n",
    "\n"
   ]
  },
  {
   "cell_type": "code",
   "execution_count": 18,
   "metadata": {},
   "outputs": [
    {
     "name": "stdout",
     "output_type": "stream",
     "text": [
      "X_scaled shape: (1000, 3)\n"
     ]
    },
    {
     "data": {
      "text/html": [
       "<div>\n",
       "<style scoped>\n",
       "    .dataframe tbody tr th:only-of-type {\n",
       "        vertical-align: middle;\n",
       "    }\n",
       "\n",
       "    .dataframe tbody tr th {\n",
       "        vertical-align: top;\n",
       "    }\n",
       "\n",
       "    .dataframe thead th {\n",
       "        text-align: right;\n",
       "    }\n",
       "</style>\n",
       "<table border=\"1\" class=\"dataframe\">\n",
       "  <thead>\n",
       "    <tr style=\"text-align: right;\">\n",
       "      <th></th>\n",
       "      <th>Age</th>\n",
       "      <th>Credit amount</th>\n",
       "      <th>Duration</th>\n",
       "    </tr>\n",
       "  </thead>\n",
       "  <tbody>\n",
       "    <tr>\n",
       "      <th>0</th>\n",
       "      <td>2.271006</td>\n",
       "      <td>-0.933901</td>\n",
       "      <td>-1.864869</td>\n",
       "    </tr>\n",
       "    <tr>\n",
       "      <th>1</th>\n",
       "      <td>-1.446152</td>\n",
       "      <td>1.163046</td>\n",
       "      <td>1.708369</td>\n",
       "    </tr>\n",
       "    <tr>\n",
       "      <th>2</th>\n",
       "      <td>1.226696</td>\n",
       "      <td>-0.181559</td>\n",
       "      <td>-0.673790</td>\n",
       "    </tr>\n",
       "    <tr>\n",
       "      <th>3</th>\n",
       "      <td>0.942455</td>\n",
       "      <td>1.525148</td>\n",
       "      <td>1.478913</td>\n",
       "    </tr>\n",
       "    <tr>\n",
       "      <th>4</th>\n",
       "      <td>1.488620</td>\n",
       "      <td>0.904743</td>\n",
       "      <td>0.517289</td>\n",
       "    </tr>\n",
       "  </tbody>\n",
       "</table>\n",
       "</div>"
      ],
      "text/plain": [
       "        Age  Credit amount  Duration\n",
       "0  2.271006      -0.933901 -1.864869\n",
       "1 -1.446152       1.163046  1.708369\n",
       "2  1.226696      -0.181559 -0.673790\n",
       "3  0.942455       1.525148  1.478913\n",
       "4  1.488620       0.904743  0.517289"
      ]
     },
     "execution_count": 18,
     "metadata": {},
     "output_type": "execute_result"
    }
   ],
   "source": [
    "# Instantiate transformer\n",
    "ss = StandardScaler()\n",
    "\n",
    "# Transform `X`\n",
    "X_scaled_data = ss.fit_transform(cluster_log)\n",
    "\n",
    "# Put `X_scaled_data` into DataFrame\n",
    "X_scaled = pd.DataFrame(X_scaled_data, columns=X.columns)\n",
    "\n",
    "print(\"X_scaled shape:\", X_scaled.shape)\n",
    "X_scaled.head()"
   ]
  },
  {
   "cell_type": "code",
   "execution_count": 19,
   "metadata": {},
   "outputs": [
    {
     "name": "stdout",
     "output_type": "stream",
     "text": [
      "Inertia: [1908.8344540260287, 1437.6902293663695, 1199.8184206407368]\n",
      "\n",
      "Silhouette Scores: [0.3962897602594097, 0.03226863151995826, 0.0286599439533405]\n"
     ]
    }
   ],
   "source": [
    "n_clusters =range(2,13)\n",
    "inertia_errors = []\n",
    "silhouette_scores = []\n",
    "\n",
    "#Add 'for' loop to train model and calculate inertia and silhouette score.\n",
    "for k in n_clusters:\n",
    "    #Build model\n",
    "    model = make_pipeline(StandardScaler(), KMeans(n_clusters=k, random_state=42,n_init=\"auto\"))\n",
    "    #Train model\n",
    "    model.fit(cluster_log)\n",
    "    # calculate inertia\n",
    "    inertia_errors.append(model.named_steps[\"kmeans\"].inertia_)\n",
    "    #calculate silhouette score\n",
    "    silhouette_scores.append(\n",
    "        silhouette_score(X, model.named_steps[\"kmeans\"].labels_)\n",
    "    )\n",
    "    \n",
    "print(\"Inertia:\", inertia_errors[:3])\n",
    "print()\n",
    "print(\"Silhouette Scores:\", silhouette_scores[:3])"
   ]
  },
  {
   "cell_type": "code",
   "execution_count": 20,
   "metadata": {},
   "outputs": [
    {
     "data": {
      "application/vnd.plotly.v1+json": {
       "config": {
        "plotlyServerURL": "https://plot.ly"
       },
       "data": [
        {
         "hovertemplate": "x=%{x}<br>y=%{y}<extra></extra>",
         "legendgroup": "",
         "line": {
          "color": "#636efa",
          "dash": "solid"
         },
         "marker": {
          "symbol": "circle"
         },
         "mode": "lines",
         "name": "",
         "orientation": "v",
         "showlegend": false,
         "type": "scatter",
         "x": [
          2,
          3,
          4,
          5,
          6,
          7,
          8,
          9,
          10,
          11,
          12
         ],
         "xaxis": "x",
         "y": [
          1908.8344540260287,
          1437.6902293663695,
          1199.8184206407368,
          1031.8615989594794,
          927.9789453056219,
          849.797259016287,
          782.1439154822165,
          719.6525295799876,
          678.31826060465,
          636.6792959672962,
          607.5179600606535
         ],
         "yaxis": "y"
        }
       ],
       "layout": {
        "legend": {
         "tracegroupgap": 0
        },
        "template": {
         "data": {
          "bar": [
           {
            "error_x": {
             "color": "#2a3f5f"
            },
            "error_y": {
             "color": "#2a3f5f"
            },
            "marker": {
             "line": {
              "color": "#E5ECF6",
              "width": 0.5
             },
             "pattern": {
              "fillmode": "overlay",
              "size": 10,
              "solidity": 0.2
             }
            },
            "type": "bar"
           }
          ],
          "barpolar": [
           {
            "marker": {
             "line": {
              "color": "#E5ECF6",
              "width": 0.5
             },
             "pattern": {
              "fillmode": "overlay",
              "size": 10,
              "solidity": 0.2
             }
            },
            "type": "barpolar"
           }
          ],
          "carpet": [
           {
            "aaxis": {
             "endlinecolor": "#2a3f5f",
             "gridcolor": "white",
             "linecolor": "white",
             "minorgridcolor": "white",
             "startlinecolor": "#2a3f5f"
            },
            "baxis": {
             "endlinecolor": "#2a3f5f",
             "gridcolor": "white",
             "linecolor": "white",
             "minorgridcolor": "white",
             "startlinecolor": "#2a3f5f"
            },
            "type": "carpet"
           }
          ],
          "choropleth": [
           {
            "colorbar": {
             "outlinewidth": 0,
             "ticks": ""
            },
            "type": "choropleth"
           }
          ],
          "contour": [
           {
            "colorbar": {
             "outlinewidth": 0,
             "ticks": ""
            },
            "colorscale": [
             [
              0,
              "#0d0887"
             ],
             [
              0.1111111111111111,
              "#46039f"
             ],
             [
              0.2222222222222222,
              "#7201a8"
             ],
             [
              0.3333333333333333,
              "#9c179e"
             ],
             [
              0.4444444444444444,
              "#bd3786"
             ],
             [
              0.5555555555555556,
              "#d8576b"
             ],
             [
              0.6666666666666666,
              "#ed7953"
             ],
             [
              0.7777777777777778,
              "#fb9f3a"
             ],
             [
              0.8888888888888888,
              "#fdca26"
             ],
             [
              1,
              "#f0f921"
             ]
            ],
            "type": "contour"
           }
          ],
          "contourcarpet": [
           {
            "colorbar": {
             "outlinewidth": 0,
             "ticks": ""
            },
            "type": "contourcarpet"
           }
          ],
          "heatmap": [
           {
            "colorbar": {
             "outlinewidth": 0,
             "ticks": ""
            },
            "colorscale": [
             [
              0,
              "#0d0887"
             ],
             [
              0.1111111111111111,
              "#46039f"
             ],
             [
              0.2222222222222222,
              "#7201a8"
             ],
             [
              0.3333333333333333,
              "#9c179e"
             ],
             [
              0.4444444444444444,
              "#bd3786"
             ],
             [
              0.5555555555555556,
              "#d8576b"
             ],
             [
              0.6666666666666666,
              "#ed7953"
             ],
             [
              0.7777777777777778,
              "#fb9f3a"
             ],
             [
              0.8888888888888888,
              "#fdca26"
             ],
             [
              1,
              "#f0f921"
             ]
            ],
            "type": "heatmap"
           }
          ],
          "heatmapgl": [
           {
            "colorbar": {
             "outlinewidth": 0,
             "ticks": ""
            },
            "colorscale": [
             [
              0,
              "#0d0887"
             ],
             [
              0.1111111111111111,
              "#46039f"
             ],
             [
              0.2222222222222222,
              "#7201a8"
             ],
             [
              0.3333333333333333,
              "#9c179e"
             ],
             [
              0.4444444444444444,
              "#bd3786"
             ],
             [
              0.5555555555555556,
              "#d8576b"
             ],
             [
              0.6666666666666666,
              "#ed7953"
             ],
             [
              0.7777777777777778,
              "#fb9f3a"
             ],
             [
              0.8888888888888888,
              "#fdca26"
             ],
             [
              1,
              "#f0f921"
             ]
            ],
            "type": "heatmapgl"
           }
          ],
          "histogram": [
           {
            "marker": {
             "pattern": {
              "fillmode": "overlay",
              "size": 10,
              "solidity": 0.2
             }
            },
            "type": "histogram"
           }
          ],
          "histogram2d": [
           {
            "colorbar": {
             "outlinewidth": 0,
             "ticks": ""
            },
            "colorscale": [
             [
              0,
              "#0d0887"
             ],
             [
              0.1111111111111111,
              "#46039f"
             ],
             [
              0.2222222222222222,
              "#7201a8"
             ],
             [
              0.3333333333333333,
              "#9c179e"
             ],
             [
              0.4444444444444444,
              "#bd3786"
             ],
             [
              0.5555555555555556,
              "#d8576b"
             ],
             [
              0.6666666666666666,
              "#ed7953"
             ],
             [
              0.7777777777777778,
              "#fb9f3a"
             ],
             [
              0.8888888888888888,
              "#fdca26"
             ],
             [
              1,
              "#f0f921"
             ]
            ],
            "type": "histogram2d"
           }
          ],
          "histogram2dcontour": [
           {
            "colorbar": {
             "outlinewidth": 0,
             "ticks": ""
            },
            "colorscale": [
             [
              0,
              "#0d0887"
             ],
             [
              0.1111111111111111,
              "#46039f"
             ],
             [
              0.2222222222222222,
              "#7201a8"
             ],
             [
              0.3333333333333333,
              "#9c179e"
             ],
             [
              0.4444444444444444,
              "#bd3786"
             ],
             [
              0.5555555555555556,
              "#d8576b"
             ],
             [
              0.6666666666666666,
              "#ed7953"
             ],
             [
              0.7777777777777778,
              "#fb9f3a"
             ],
             [
              0.8888888888888888,
              "#fdca26"
             ],
             [
              1,
              "#f0f921"
             ]
            ],
            "type": "histogram2dcontour"
           }
          ],
          "mesh3d": [
           {
            "colorbar": {
             "outlinewidth": 0,
             "ticks": ""
            },
            "type": "mesh3d"
           }
          ],
          "parcoords": [
           {
            "line": {
             "colorbar": {
              "outlinewidth": 0,
              "ticks": ""
             }
            },
            "type": "parcoords"
           }
          ],
          "pie": [
           {
            "automargin": true,
            "type": "pie"
           }
          ],
          "scatter": [
           {
            "fillpattern": {
             "fillmode": "overlay",
             "size": 10,
             "solidity": 0.2
            },
            "type": "scatter"
           }
          ],
          "scatter3d": [
           {
            "line": {
             "colorbar": {
              "outlinewidth": 0,
              "ticks": ""
             }
            },
            "marker": {
             "colorbar": {
              "outlinewidth": 0,
              "ticks": ""
             }
            },
            "type": "scatter3d"
           }
          ],
          "scattercarpet": [
           {
            "marker": {
             "colorbar": {
              "outlinewidth": 0,
              "ticks": ""
             }
            },
            "type": "scattercarpet"
           }
          ],
          "scattergeo": [
           {
            "marker": {
             "colorbar": {
              "outlinewidth": 0,
              "ticks": ""
             }
            },
            "type": "scattergeo"
           }
          ],
          "scattergl": [
           {
            "marker": {
             "colorbar": {
              "outlinewidth": 0,
              "ticks": ""
             }
            },
            "type": "scattergl"
           }
          ],
          "scattermapbox": [
           {
            "marker": {
             "colorbar": {
              "outlinewidth": 0,
              "ticks": ""
             }
            },
            "type": "scattermapbox"
           }
          ],
          "scatterpolar": [
           {
            "marker": {
             "colorbar": {
              "outlinewidth": 0,
              "ticks": ""
             }
            },
            "type": "scatterpolar"
           }
          ],
          "scatterpolargl": [
           {
            "marker": {
             "colorbar": {
              "outlinewidth": 0,
              "ticks": ""
             }
            },
            "type": "scatterpolargl"
           }
          ],
          "scatterternary": [
           {
            "marker": {
             "colorbar": {
              "outlinewidth": 0,
              "ticks": ""
             }
            },
            "type": "scatterternary"
           }
          ],
          "surface": [
           {
            "colorbar": {
             "outlinewidth": 0,
             "ticks": ""
            },
            "colorscale": [
             [
              0,
              "#0d0887"
             ],
             [
              0.1111111111111111,
              "#46039f"
             ],
             [
              0.2222222222222222,
              "#7201a8"
             ],
             [
              0.3333333333333333,
              "#9c179e"
             ],
             [
              0.4444444444444444,
              "#bd3786"
             ],
             [
              0.5555555555555556,
              "#d8576b"
             ],
             [
              0.6666666666666666,
              "#ed7953"
             ],
             [
              0.7777777777777778,
              "#fb9f3a"
             ],
             [
              0.8888888888888888,
              "#fdca26"
             ],
             [
              1,
              "#f0f921"
             ]
            ],
            "type": "surface"
           }
          ],
          "table": [
           {
            "cells": {
             "fill": {
              "color": "#EBF0F8"
             },
             "line": {
              "color": "white"
             }
            },
            "header": {
             "fill": {
              "color": "#C8D4E3"
             },
             "line": {
              "color": "white"
             }
            },
            "type": "table"
           }
          ]
         },
         "layout": {
          "annotationdefaults": {
           "arrowcolor": "#2a3f5f",
           "arrowhead": 0,
           "arrowwidth": 1
          },
          "autotypenumbers": "strict",
          "coloraxis": {
           "colorbar": {
            "outlinewidth": 0,
            "ticks": ""
           }
          },
          "colorscale": {
           "diverging": [
            [
             0,
             "#8e0152"
            ],
            [
             0.1,
             "#c51b7d"
            ],
            [
             0.2,
             "#de77ae"
            ],
            [
             0.3,
             "#f1b6da"
            ],
            [
             0.4,
             "#fde0ef"
            ],
            [
             0.5,
             "#f7f7f7"
            ],
            [
             0.6,
             "#e6f5d0"
            ],
            [
             0.7,
             "#b8e186"
            ],
            [
             0.8,
             "#7fbc41"
            ],
            [
             0.9,
             "#4d9221"
            ],
            [
             1,
             "#276419"
            ]
           ],
           "sequential": [
            [
             0,
             "#0d0887"
            ],
            [
             0.1111111111111111,
             "#46039f"
            ],
            [
             0.2222222222222222,
             "#7201a8"
            ],
            [
             0.3333333333333333,
             "#9c179e"
            ],
            [
             0.4444444444444444,
             "#bd3786"
            ],
            [
             0.5555555555555556,
             "#d8576b"
            ],
            [
             0.6666666666666666,
             "#ed7953"
            ],
            [
             0.7777777777777778,
             "#fb9f3a"
            ],
            [
             0.8888888888888888,
             "#fdca26"
            ],
            [
             1,
             "#f0f921"
            ]
           ],
           "sequentialminus": [
            [
             0,
             "#0d0887"
            ],
            [
             0.1111111111111111,
             "#46039f"
            ],
            [
             0.2222222222222222,
             "#7201a8"
            ],
            [
             0.3333333333333333,
             "#9c179e"
            ],
            [
             0.4444444444444444,
             "#bd3786"
            ],
            [
             0.5555555555555556,
             "#d8576b"
            ],
            [
             0.6666666666666666,
             "#ed7953"
            ],
            [
             0.7777777777777778,
             "#fb9f3a"
            ],
            [
             0.8888888888888888,
             "#fdca26"
            ],
            [
             1,
             "#f0f921"
            ]
           ]
          },
          "colorway": [
           "#636efa",
           "#EF553B",
           "#00cc96",
           "#ab63fa",
           "#FFA15A",
           "#19d3f3",
           "#FF6692",
           "#B6E880",
           "#FF97FF",
           "#FECB52"
          ],
          "font": {
           "color": "#2a3f5f"
          },
          "geo": {
           "bgcolor": "white",
           "lakecolor": "white",
           "landcolor": "#E5ECF6",
           "showlakes": true,
           "showland": true,
           "subunitcolor": "white"
          },
          "hoverlabel": {
           "align": "left"
          },
          "hovermode": "closest",
          "mapbox": {
           "style": "light"
          },
          "paper_bgcolor": "white",
          "plot_bgcolor": "#E5ECF6",
          "polar": {
           "angularaxis": {
            "gridcolor": "white",
            "linecolor": "white",
            "ticks": ""
           },
           "bgcolor": "#E5ECF6",
           "radialaxis": {
            "gridcolor": "white",
            "linecolor": "white",
            "ticks": ""
           }
          },
          "scene": {
           "xaxis": {
            "backgroundcolor": "#E5ECF6",
            "gridcolor": "white",
            "gridwidth": 2,
            "linecolor": "white",
            "showbackground": true,
            "ticks": "",
            "zerolinecolor": "white"
           },
           "yaxis": {
            "backgroundcolor": "#E5ECF6",
            "gridcolor": "white",
            "gridwidth": 2,
            "linecolor": "white",
            "showbackground": true,
            "ticks": "",
            "zerolinecolor": "white"
           },
           "zaxis": {
            "backgroundcolor": "#E5ECF6",
            "gridcolor": "white",
            "gridwidth": 2,
            "linecolor": "white",
            "showbackground": true,
            "ticks": "",
            "zerolinecolor": "white"
           }
          },
          "shapedefaults": {
           "line": {
            "color": "#2a3f5f"
           }
          },
          "ternary": {
           "aaxis": {
            "gridcolor": "white",
            "linecolor": "white",
            "ticks": ""
           },
           "baxis": {
            "gridcolor": "white",
            "linecolor": "white",
            "ticks": ""
           },
           "bgcolor": "#E5ECF6",
           "caxis": {
            "gridcolor": "white",
            "linecolor": "white",
            "ticks": ""
           }
          },
          "title": {
           "x": 0.05
          },
          "xaxis": {
           "automargin": true,
           "gridcolor": "white",
           "linecolor": "white",
           "ticks": "",
           "title": {
            "standoff": 15
           },
           "zerolinecolor": "white",
           "zerolinewidth": 2
          },
          "yaxis": {
           "automargin": true,
           "gridcolor": "white",
           "linecolor": "white",
           "ticks": "",
           "title": {
            "standoff": 15
           },
           "zerolinecolor": "white",
           "zerolinewidth": 2
          }
         }
        },
        "title": {
         "text": "K-Means Model: Inertia vs Number of Clusters"
        },
        "xaxis": {
         "anchor": "y",
         "domain": [
          0,
          1
         ],
         "title": {
          "text": "Number of Clusters (k)"
         }
        },
        "yaxis": {
         "anchor": "x",
         "domain": [
          0,
          1
         ],
         "title": {
          "text": "Inertia"
         }
        }
       }
      }
     },
     "metadata": {},
     "output_type": "display_data"
    }
   ],
   "source": [
    "# Create line plot of `inertia_errors` vs `n_clusters`\n",
    "fig = px.line(\n",
    "    x=n_clusters, y=inertia_errors, title=\"K-Means Model: Inertia vs Number of Clusters\"\n",
    ")\n",
    "fig.update_layout(xaxis_title=\"Number of Clusters (k)\", yaxis_title=\"Inertia\")\n",
    "fig.show()"
   ]
  },
  {
   "attachments": {},
   "cell_type": "markdown",
   "metadata": {},
   "source": [
    "You can see that the line starts to flatten out around 4 or 5 clusters."
   ]
  },
  {
   "cell_type": "code",
   "execution_count": 21,
   "metadata": {},
   "outputs": [
    {
     "data": {
      "application/vnd.plotly.v1+json": {
       "config": {
        "plotlyServerURL": "https://plot.ly"
       },
       "data": [
        {
         "hovertemplate": "x=%{x}<br>y=%{y}<extra></extra>",
         "legendgroup": "",
         "line": {
          "color": "#636efa",
          "dash": "solid"
         },
         "marker": {
          "symbol": "circle"
         },
         "mode": "lines",
         "name": "",
         "orientation": "v",
         "showlegend": false,
         "type": "scatter",
         "x": [
          2,
          3,
          4,
          5,
          6,
          7,
          8,
          9,
          10,
          11,
          12
         ],
         "xaxis": "x",
         "y": [
          0.3962897602594097,
          0.03226863151995826,
          0.0286599439533405,
          -0.06193995949011343,
          -0.11296917299238769,
          -0.13889476407378143,
          -0.14397517699594695,
          -0.1574702637712787,
          -0.15661868743831414,
          -0.17702227144593627,
          -0.1860101023857235
         ],
         "yaxis": "y"
        }
       ],
       "layout": {
        "legend": {
         "tracegroupgap": 0
        },
        "template": {
         "data": {
          "bar": [
           {
            "error_x": {
             "color": "#2a3f5f"
            },
            "error_y": {
             "color": "#2a3f5f"
            },
            "marker": {
             "line": {
              "color": "#E5ECF6",
              "width": 0.5
             },
             "pattern": {
              "fillmode": "overlay",
              "size": 10,
              "solidity": 0.2
             }
            },
            "type": "bar"
           }
          ],
          "barpolar": [
           {
            "marker": {
             "line": {
              "color": "#E5ECF6",
              "width": 0.5
             },
             "pattern": {
              "fillmode": "overlay",
              "size": 10,
              "solidity": 0.2
             }
            },
            "type": "barpolar"
           }
          ],
          "carpet": [
           {
            "aaxis": {
             "endlinecolor": "#2a3f5f",
             "gridcolor": "white",
             "linecolor": "white",
             "minorgridcolor": "white",
             "startlinecolor": "#2a3f5f"
            },
            "baxis": {
             "endlinecolor": "#2a3f5f",
             "gridcolor": "white",
             "linecolor": "white",
             "minorgridcolor": "white",
             "startlinecolor": "#2a3f5f"
            },
            "type": "carpet"
           }
          ],
          "choropleth": [
           {
            "colorbar": {
             "outlinewidth": 0,
             "ticks": ""
            },
            "type": "choropleth"
           }
          ],
          "contour": [
           {
            "colorbar": {
             "outlinewidth": 0,
             "ticks": ""
            },
            "colorscale": [
             [
              0,
              "#0d0887"
             ],
             [
              0.1111111111111111,
              "#46039f"
             ],
             [
              0.2222222222222222,
              "#7201a8"
             ],
             [
              0.3333333333333333,
              "#9c179e"
             ],
             [
              0.4444444444444444,
              "#bd3786"
             ],
             [
              0.5555555555555556,
              "#d8576b"
             ],
             [
              0.6666666666666666,
              "#ed7953"
             ],
             [
              0.7777777777777778,
              "#fb9f3a"
             ],
             [
              0.8888888888888888,
              "#fdca26"
             ],
             [
              1,
              "#f0f921"
             ]
            ],
            "type": "contour"
           }
          ],
          "contourcarpet": [
           {
            "colorbar": {
             "outlinewidth": 0,
             "ticks": ""
            },
            "type": "contourcarpet"
           }
          ],
          "heatmap": [
           {
            "colorbar": {
             "outlinewidth": 0,
             "ticks": ""
            },
            "colorscale": [
             [
              0,
              "#0d0887"
             ],
             [
              0.1111111111111111,
              "#46039f"
             ],
             [
              0.2222222222222222,
              "#7201a8"
             ],
             [
              0.3333333333333333,
              "#9c179e"
             ],
             [
              0.4444444444444444,
              "#bd3786"
             ],
             [
              0.5555555555555556,
              "#d8576b"
             ],
             [
              0.6666666666666666,
              "#ed7953"
             ],
             [
              0.7777777777777778,
              "#fb9f3a"
             ],
             [
              0.8888888888888888,
              "#fdca26"
             ],
             [
              1,
              "#f0f921"
             ]
            ],
            "type": "heatmap"
           }
          ],
          "heatmapgl": [
           {
            "colorbar": {
             "outlinewidth": 0,
             "ticks": ""
            },
            "colorscale": [
             [
              0,
              "#0d0887"
             ],
             [
              0.1111111111111111,
              "#46039f"
             ],
             [
              0.2222222222222222,
              "#7201a8"
             ],
             [
              0.3333333333333333,
              "#9c179e"
             ],
             [
              0.4444444444444444,
              "#bd3786"
             ],
             [
              0.5555555555555556,
              "#d8576b"
             ],
             [
              0.6666666666666666,
              "#ed7953"
             ],
             [
              0.7777777777777778,
              "#fb9f3a"
             ],
             [
              0.8888888888888888,
              "#fdca26"
             ],
             [
              1,
              "#f0f921"
             ]
            ],
            "type": "heatmapgl"
           }
          ],
          "histogram": [
           {
            "marker": {
             "pattern": {
              "fillmode": "overlay",
              "size": 10,
              "solidity": 0.2
             }
            },
            "type": "histogram"
           }
          ],
          "histogram2d": [
           {
            "colorbar": {
             "outlinewidth": 0,
             "ticks": ""
            },
            "colorscale": [
             [
              0,
              "#0d0887"
             ],
             [
              0.1111111111111111,
              "#46039f"
             ],
             [
              0.2222222222222222,
              "#7201a8"
             ],
             [
              0.3333333333333333,
              "#9c179e"
             ],
             [
              0.4444444444444444,
              "#bd3786"
             ],
             [
              0.5555555555555556,
              "#d8576b"
             ],
             [
              0.6666666666666666,
              "#ed7953"
             ],
             [
              0.7777777777777778,
              "#fb9f3a"
             ],
             [
              0.8888888888888888,
              "#fdca26"
             ],
             [
              1,
              "#f0f921"
             ]
            ],
            "type": "histogram2d"
           }
          ],
          "histogram2dcontour": [
           {
            "colorbar": {
             "outlinewidth": 0,
             "ticks": ""
            },
            "colorscale": [
             [
              0,
              "#0d0887"
             ],
             [
              0.1111111111111111,
              "#46039f"
             ],
             [
              0.2222222222222222,
              "#7201a8"
             ],
             [
              0.3333333333333333,
              "#9c179e"
             ],
             [
              0.4444444444444444,
              "#bd3786"
             ],
             [
              0.5555555555555556,
              "#d8576b"
             ],
             [
              0.6666666666666666,
              "#ed7953"
             ],
             [
              0.7777777777777778,
              "#fb9f3a"
             ],
             [
              0.8888888888888888,
              "#fdca26"
             ],
             [
              1,
              "#f0f921"
             ]
            ],
            "type": "histogram2dcontour"
           }
          ],
          "mesh3d": [
           {
            "colorbar": {
             "outlinewidth": 0,
             "ticks": ""
            },
            "type": "mesh3d"
           }
          ],
          "parcoords": [
           {
            "line": {
             "colorbar": {
              "outlinewidth": 0,
              "ticks": ""
             }
            },
            "type": "parcoords"
           }
          ],
          "pie": [
           {
            "automargin": true,
            "type": "pie"
           }
          ],
          "scatter": [
           {
            "fillpattern": {
             "fillmode": "overlay",
             "size": 10,
             "solidity": 0.2
            },
            "type": "scatter"
           }
          ],
          "scatter3d": [
           {
            "line": {
             "colorbar": {
              "outlinewidth": 0,
              "ticks": ""
             }
            },
            "marker": {
             "colorbar": {
              "outlinewidth": 0,
              "ticks": ""
             }
            },
            "type": "scatter3d"
           }
          ],
          "scattercarpet": [
           {
            "marker": {
             "colorbar": {
              "outlinewidth": 0,
              "ticks": ""
             }
            },
            "type": "scattercarpet"
           }
          ],
          "scattergeo": [
           {
            "marker": {
             "colorbar": {
              "outlinewidth": 0,
              "ticks": ""
             }
            },
            "type": "scattergeo"
           }
          ],
          "scattergl": [
           {
            "marker": {
             "colorbar": {
              "outlinewidth": 0,
              "ticks": ""
             }
            },
            "type": "scattergl"
           }
          ],
          "scattermapbox": [
           {
            "marker": {
             "colorbar": {
              "outlinewidth": 0,
              "ticks": ""
             }
            },
            "type": "scattermapbox"
           }
          ],
          "scatterpolar": [
           {
            "marker": {
             "colorbar": {
              "outlinewidth": 0,
              "ticks": ""
             }
            },
            "type": "scatterpolar"
           }
          ],
          "scatterpolargl": [
           {
            "marker": {
             "colorbar": {
              "outlinewidth": 0,
              "ticks": ""
             }
            },
            "type": "scatterpolargl"
           }
          ],
          "scatterternary": [
           {
            "marker": {
             "colorbar": {
              "outlinewidth": 0,
              "ticks": ""
             }
            },
            "type": "scatterternary"
           }
          ],
          "surface": [
           {
            "colorbar": {
             "outlinewidth": 0,
             "ticks": ""
            },
            "colorscale": [
             [
              0,
              "#0d0887"
             ],
             [
              0.1111111111111111,
              "#46039f"
             ],
             [
              0.2222222222222222,
              "#7201a8"
             ],
             [
              0.3333333333333333,
              "#9c179e"
             ],
             [
              0.4444444444444444,
              "#bd3786"
             ],
             [
              0.5555555555555556,
              "#d8576b"
             ],
             [
              0.6666666666666666,
              "#ed7953"
             ],
             [
              0.7777777777777778,
              "#fb9f3a"
             ],
             [
              0.8888888888888888,
              "#fdca26"
             ],
             [
              1,
              "#f0f921"
             ]
            ],
            "type": "surface"
           }
          ],
          "table": [
           {
            "cells": {
             "fill": {
              "color": "#EBF0F8"
             },
             "line": {
              "color": "white"
             }
            },
            "header": {
             "fill": {
              "color": "#C8D4E3"
             },
             "line": {
              "color": "white"
             }
            },
            "type": "table"
           }
          ]
         },
         "layout": {
          "annotationdefaults": {
           "arrowcolor": "#2a3f5f",
           "arrowhead": 0,
           "arrowwidth": 1
          },
          "autotypenumbers": "strict",
          "coloraxis": {
           "colorbar": {
            "outlinewidth": 0,
            "ticks": ""
           }
          },
          "colorscale": {
           "diverging": [
            [
             0,
             "#8e0152"
            ],
            [
             0.1,
             "#c51b7d"
            ],
            [
             0.2,
             "#de77ae"
            ],
            [
             0.3,
             "#f1b6da"
            ],
            [
             0.4,
             "#fde0ef"
            ],
            [
             0.5,
             "#f7f7f7"
            ],
            [
             0.6,
             "#e6f5d0"
            ],
            [
             0.7,
             "#b8e186"
            ],
            [
             0.8,
             "#7fbc41"
            ],
            [
             0.9,
             "#4d9221"
            ],
            [
             1,
             "#276419"
            ]
           ],
           "sequential": [
            [
             0,
             "#0d0887"
            ],
            [
             0.1111111111111111,
             "#46039f"
            ],
            [
             0.2222222222222222,
             "#7201a8"
            ],
            [
             0.3333333333333333,
             "#9c179e"
            ],
            [
             0.4444444444444444,
             "#bd3786"
            ],
            [
             0.5555555555555556,
             "#d8576b"
            ],
            [
             0.6666666666666666,
             "#ed7953"
            ],
            [
             0.7777777777777778,
             "#fb9f3a"
            ],
            [
             0.8888888888888888,
             "#fdca26"
            ],
            [
             1,
             "#f0f921"
            ]
           ],
           "sequentialminus": [
            [
             0,
             "#0d0887"
            ],
            [
             0.1111111111111111,
             "#46039f"
            ],
            [
             0.2222222222222222,
             "#7201a8"
            ],
            [
             0.3333333333333333,
             "#9c179e"
            ],
            [
             0.4444444444444444,
             "#bd3786"
            ],
            [
             0.5555555555555556,
             "#d8576b"
            ],
            [
             0.6666666666666666,
             "#ed7953"
            ],
            [
             0.7777777777777778,
             "#fb9f3a"
            ],
            [
             0.8888888888888888,
             "#fdca26"
            ],
            [
             1,
             "#f0f921"
            ]
           ]
          },
          "colorway": [
           "#636efa",
           "#EF553B",
           "#00cc96",
           "#ab63fa",
           "#FFA15A",
           "#19d3f3",
           "#FF6692",
           "#B6E880",
           "#FF97FF",
           "#FECB52"
          ],
          "font": {
           "color": "#2a3f5f"
          },
          "geo": {
           "bgcolor": "white",
           "lakecolor": "white",
           "landcolor": "#E5ECF6",
           "showlakes": true,
           "showland": true,
           "subunitcolor": "white"
          },
          "hoverlabel": {
           "align": "left"
          },
          "hovermode": "closest",
          "mapbox": {
           "style": "light"
          },
          "paper_bgcolor": "white",
          "plot_bgcolor": "#E5ECF6",
          "polar": {
           "angularaxis": {
            "gridcolor": "white",
            "linecolor": "white",
            "ticks": ""
           },
           "bgcolor": "#E5ECF6",
           "radialaxis": {
            "gridcolor": "white",
            "linecolor": "white",
            "ticks": ""
           }
          },
          "scene": {
           "xaxis": {
            "backgroundcolor": "#E5ECF6",
            "gridcolor": "white",
            "gridwidth": 2,
            "linecolor": "white",
            "showbackground": true,
            "ticks": "",
            "zerolinecolor": "white"
           },
           "yaxis": {
            "backgroundcolor": "#E5ECF6",
            "gridcolor": "white",
            "gridwidth": 2,
            "linecolor": "white",
            "showbackground": true,
            "ticks": "",
            "zerolinecolor": "white"
           },
           "zaxis": {
            "backgroundcolor": "#E5ECF6",
            "gridcolor": "white",
            "gridwidth": 2,
            "linecolor": "white",
            "showbackground": true,
            "ticks": "",
            "zerolinecolor": "white"
           }
          },
          "shapedefaults": {
           "line": {
            "color": "#2a3f5f"
           }
          },
          "ternary": {
           "aaxis": {
            "gridcolor": "white",
            "linecolor": "white",
            "ticks": ""
           },
           "baxis": {
            "gridcolor": "white",
            "linecolor": "white",
            "ticks": ""
           },
           "bgcolor": "#E5ECF6",
           "caxis": {
            "gridcolor": "white",
            "linecolor": "white",
            "ticks": ""
           }
          },
          "title": {
           "x": 0.05
          },
          "xaxis": {
           "automargin": true,
           "gridcolor": "white",
           "linecolor": "white",
           "ticks": "",
           "title": {
            "standoff": 15
           },
           "zerolinecolor": "white",
           "zerolinewidth": 2
          },
          "yaxis": {
           "automargin": true,
           "gridcolor": "white",
           "linecolor": "white",
           "ticks": "",
           "title": {
            "standoff": 15
           },
           "zerolinecolor": "white",
           "zerolinewidth": 2
          }
         }
        },
        "title": {
         "text": "K-Means Model: Silhouette score vs Number of Clusters"
        },
        "xaxis": {
         "anchor": "y",
         "domain": [
          0,
          1
         ],
         "title": {
          "text": "Number of Clusters"
         }
        },
        "yaxis": {
         "anchor": "x",
         "domain": [
          0,
          1
         ],
         "title": {
          "text": "Silhouette Score"
         }
        }
       }
      }
     },
     "metadata": {},
     "output_type": "display_data"
    }
   ],
   "source": [
    "# Create a line plot of `silhouette_scores` vs `n_clusters`\n",
    "fig = px.line(\n",
    "    x=n_clusters,\n",
    "    y=silhouette_scores, \n",
    "    title=\"K-Means Model: Silhouette score vs Number of Clusters\"\n",
    ")\n",
    "fig.update_layout(xaxis_title=\"Number of Clusters\", yaxis_title=\"Silhouette Score\")\n",
    "\n",
    "fig.show()"
   ]
  },
  {
   "attachments": {},
   "cell_type": "markdown",
   "metadata": {},
   "source": [
    "This one's a little less straightforward, but we can see that the best silhouette scores occur when there are 3 or 4 clusters.\n",
    "\n",
    "Putting the information from this plot together with our inertia plot, it seems like the best setting for n_clusters will be 4.\n"
   ]
  },
  {
   "attachments": {},
   "cell_type": "markdown",
   "metadata": {},
   "source": [
    "## Final Model."
   ]
  },
  {
   "cell_type": "code",
   "execution_count": 22,
   "metadata": {},
   "outputs": [
    {
     "name": "stderr",
     "output_type": "stream",
     "text": [
      "c:\\Users\\ENCHILL\\OneDrive\\Desktop\\clustering\\.venv\\lib\\site-packages\\sklearn\\cluster\\_kmeans.py:870: FutureWarning:\n",
      "\n",
      "The default value of `n_init` will change from 10 to 'auto' in 1.4. Set the value of `n_init` explicitly to suppress the warning\n",
      "\n"
     ]
    },
    {
     "data": {
      "text/html": [
       "<style>#sk-container-id-1 {color: black;background-color: white;}#sk-container-id-1 pre{padding: 0;}#sk-container-id-1 div.sk-toggleable {background-color: white;}#sk-container-id-1 label.sk-toggleable__label {cursor: pointer;display: block;width: 100%;margin-bottom: 0;padding: 0.3em;box-sizing: border-box;text-align: center;}#sk-container-id-1 label.sk-toggleable__label-arrow:before {content: \"▸\";float: left;margin-right: 0.25em;color: #696969;}#sk-container-id-1 label.sk-toggleable__label-arrow:hover:before {color: black;}#sk-container-id-1 div.sk-estimator:hover label.sk-toggleable__label-arrow:before {color: black;}#sk-container-id-1 div.sk-toggleable__content {max-height: 0;max-width: 0;overflow: hidden;text-align: left;background-color: #f0f8ff;}#sk-container-id-1 div.sk-toggleable__content pre {margin: 0.2em;color: black;border-radius: 0.25em;background-color: #f0f8ff;}#sk-container-id-1 input.sk-toggleable__control:checked~div.sk-toggleable__content {max-height: 200px;max-width: 100%;overflow: auto;}#sk-container-id-1 input.sk-toggleable__control:checked~label.sk-toggleable__label-arrow:before {content: \"▾\";}#sk-container-id-1 div.sk-estimator input.sk-toggleable__control:checked~label.sk-toggleable__label {background-color: #d4ebff;}#sk-container-id-1 div.sk-label input.sk-toggleable__control:checked~label.sk-toggleable__label {background-color: #d4ebff;}#sk-container-id-1 input.sk-hidden--visually {border: 0;clip: rect(1px 1px 1px 1px);clip: rect(1px, 1px, 1px, 1px);height: 1px;margin: -1px;overflow: hidden;padding: 0;position: absolute;width: 1px;}#sk-container-id-1 div.sk-estimator {font-family: monospace;background-color: #f0f8ff;border: 1px dotted black;border-radius: 0.25em;box-sizing: border-box;margin-bottom: 0.5em;}#sk-container-id-1 div.sk-estimator:hover {background-color: #d4ebff;}#sk-container-id-1 div.sk-parallel-item::after {content: \"\";width: 100%;border-bottom: 1px solid gray;flex-grow: 1;}#sk-container-id-1 div.sk-label:hover label.sk-toggleable__label {background-color: #d4ebff;}#sk-container-id-1 div.sk-serial::before {content: \"\";position: absolute;border-left: 1px solid gray;box-sizing: border-box;top: 0;bottom: 0;left: 50%;z-index: 0;}#sk-container-id-1 div.sk-serial {display: flex;flex-direction: column;align-items: center;background-color: white;padding-right: 0.2em;padding-left: 0.2em;position: relative;}#sk-container-id-1 div.sk-item {position: relative;z-index: 1;}#sk-container-id-1 div.sk-parallel {display: flex;align-items: stretch;justify-content: center;background-color: white;position: relative;}#sk-container-id-1 div.sk-item::before, #sk-container-id-1 div.sk-parallel-item::before {content: \"\";position: absolute;border-left: 1px solid gray;box-sizing: border-box;top: 0;bottom: 0;left: 50%;z-index: -1;}#sk-container-id-1 div.sk-parallel-item {display: flex;flex-direction: column;z-index: 1;position: relative;background-color: white;}#sk-container-id-1 div.sk-parallel-item:first-child::after {align-self: flex-end;width: 50%;}#sk-container-id-1 div.sk-parallel-item:last-child::after {align-self: flex-start;width: 50%;}#sk-container-id-1 div.sk-parallel-item:only-child::after {width: 0;}#sk-container-id-1 div.sk-dashed-wrapped {border: 1px dashed gray;margin: 0 0.4em 0.5em 0.4em;box-sizing: border-box;padding-bottom: 0.4em;background-color: white;}#sk-container-id-1 div.sk-label label {font-family: monospace;font-weight: bold;display: inline-block;line-height: 1.2em;}#sk-container-id-1 div.sk-label-container {text-align: center;}#sk-container-id-1 div.sk-container {/* jupyter's `normalize.less` sets `[hidden] { display: none; }` but bootstrap.min.css set `[hidden] { display: none !important; }` so we also need the `!important` here to be able to override the default hidden behavior on the sphinx rendered scikit-learn.org. See: https://github.com/scikit-learn/scikit-learn/issues/21755 */display: inline-block !important;position: relative;}#sk-container-id-1 div.sk-text-repr-fallback {display: none;}</style><div id=\"sk-container-id-1\" class=\"sk-top-container\"><div class=\"sk-text-repr-fallback\"><pre>Pipeline(steps=[(&#x27;standardscaler&#x27;, StandardScaler()),\n",
       "                (&#x27;kmeans&#x27;, KMeans(n_clusters=4, random_state=42))])</pre><b>In a Jupyter environment, please rerun this cell to show the HTML representation or trust the notebook. <br />On GitHub, the HTML representation is unable to render, please try loading this page with nbviewer.org.</b></div><div class=\"sk-container\" hidden><div class=\"sk-item sk-dashed-wrapped\"><div class=\"sk-label-container\"><div class=\"sk-label sk-toggleable\"><input class=\"sk-toggleable__control sk-hidden--visually\" id=\"sk-estimator-id-1\" type=\"checkbox\" ><label for=\"sk-estimator-id-1\" class=\"sk-toggleable__label sk-toggleable__label-arrow\">Pipeline</label><div class=\"sk-toggleable__content\"><pre>Pipeline(steps=[(&#x27;standardscaler&#x27;, StandardScaler()),\n",
       "                (&#x27;kmeans&#x27;, KMeans(n_clusters=4, random_state=42))])</pre></div></div></div><div class=\"sk-serial\"><div class=\"sk-item\"><div class=\"sk-estimator sk-toggleable\"><input class=\"sk-toggleable__control sk-hidden--visually\" id=\"sk-estimator-id-2\" type=\"checkbox\" ><label for=\"sk-estimator-id-2\" class=\"sk-toggleable__label sk-toggleable__label-arrow\">StandardScaler</label><div class=\"sk-toggleable__content\"><pre>StandardScaler()</pre></div></div></div><div class=\"sk-item\"><div class=\"sk-estimator sk-toggleable\"><input class=\"sk-toggleable__control sk-hidden--visually\" id=\"sk-estimator-id-3\" type=\"checkbox\" ><label for=\"sk-estimator-id-3\" class=\"sk-toggleable__label sk-toggleable__label-arrow\">KMeans</label><div class=\"sk-toggleable__content\"><pre>KMeans(n_clusters=4, random_state=42)</pre></div></div></div></div></div></div></div>"
      ],
      "text/plain": [
       "Pipeline(steps=[('standardscaler', StandardScaler()),\n",
       "                ('kmeans', KMeans(n_clusters=4, random_state=42))])"
      ]
     },
     "execution_count": 22,
     "metadata": {},
     "output_type": "execute_result"
    }
   ],
   "source": [
    "final_model = make_pipeline(\n",
    "    StandardScaler(),\n",
    "    KMeans(n_clusters=4, random_state=42)\n",
    ")\n",
    "final_model.fit(cluster_log)"
   ]
  },
  {
   "cell_type": "code",
   "execution_count": 23,
   "metadata": {},
   "outputs": [
    {
     "name": "stdout",
     "output_type": "stream",
     "text": [
      "[0 1 0 1 1]\n"
     ]
    }
   ],
   "source": [
    "labels = final_model.named_steps[\"kmeans\"].labels_\n",
    "print(labels[:5])"
   ]
  },
  {
   "cell_type": "code",
   "execution_count": 24,
   "metadata": {},
   "outputs": [
    {
     "data": {
      "text/html": [
       "<div>\n",
       "<style scoped>\n",
       "    .dataframe tbody tr th:only-of-type {\n",
       "        vertical-align: middle;\n",
       "    }\n",
       "\n",
       "    .dataframe tbody tr th {\n",
       "        vertical-align: top;\n",
       "    }\n",
       "\n",
       "    .dataframe thead th {\n",
       "        text-align: right;\n",
       "    }\n",
       "</style>\n",
       "<table border=\"1\" class=\"dataframe\">\n",
       "  <thead>\n",
       "    <tr style=\"text-align: right;\">\n",
       "      <th></th>\n",
       "      <th>Age</th>\n",
       "      <th>Credit amount</th>\n",
       "      <th>Duration</th>\n",
       "      <th>Cluster</th>\n",
       "    </tr>\n",
       "  </thead>\n",
       "  <tbody>\n",
       "    <tr>\n",
       "      <th>0</th>\n",
       "      <td>67</td>\n",
       "      <td>1169</td>\n",
       "      <td>6</td>\n",
       "      <td>0</td>\n",
       "    </tr>\n",
       "    <tr>\n",
       "      <th>1</th>\n",
       "      <td>22</td>\n",
       "      <td>5951</td>\n",
       "      <td>48</td>\n",
       "      <td>1</td>\n",
       "    </tr>\n",
       "    <tr>\n",
       "      <th>2</th>\n",
       "      <td>49</td>\n",
       "      <td>2096</td>\n",
       "      <td>12</td>\n",
       "      <td>0</td>\n",
       "    </tr>\n",
       "    <tr>\n",
       "      <th>3</th>\n",
       "      <td>45</td>\n",
       "      <td>7882</td>\n",
       "      <td>42</td>\n",
       "      <td>1</td>\n",
       "    </tr>\n",
       "    <tr>\n",
       "      <th>4</th>\n",
       "      <td>53</td>\n",
       "      <td>4870</td>\n",
       "      <td>24</td>\n",
       "      <td>1</td>\n",
       "    </tr>\n",
       "  </tbody>\n",
       "</table>\n",
       "</div>"
      ],
      "text/plain": [
       "   Age  Credit amount  Duration  Cluster\n",
       "0   67           1169         6        0\n",
       "1   22           5951        48        1\n",
       "2   49           2096        12        0\n",
       "3   45           7882        42        1\n",
       "4   53           4870        24        1"
      ]
     },
     "execution_count": 24,
     "metadata": {},
     "output_type": "execute_result"
    }
   ],
   "source": [
    "clustered_data = X.assign(Cluster=labels)\n",
    "clustered_data.head()"
   ]
  },
  {
   "cell_type": "code",
   "execution_count": 25,
   "metadata": {},
   "outputs": [
    {
     "data": {
      "text/html": [
       "<div>\n",
       "<style scoped>\n",
       "    .dataframe tbody tr th:only-of-type {\n",
       "        vertical-align: middle;\n",
       "    }\n",
       "\n",
       "    .dataframe tbody tr th {\n",
       "        vertical-align: top;\n",
       "    }\n",
       "\n",
       "    .dataframe thead th {\n",
       "        text-align: right;\n",
       "    }\n",
       "</style>\n",
       "<table border=\"1\" class=\"dataframe\">\n",
       "  <thead>\n",
       "    <tr style=\"text-align: right;\">\n",
       "      <th></th>\n",
       "      <th>Age</th>\n",
       "      <th>Credit amount</th>\n",
       "      <th>Duration</th>\n",
       "    </tr>\n",
       "    <tr>\n",
       "      <th>Cluster</th>\n",
       "      <th></th>\n",
       "      <th></th>\n",
       "      <th></th>\n",
       "    </tr>\n",
       "  </thead>\n",
       "  <tbody>\n",
       "    <tr>\n",
       "      <th>0</th>\n",
       "      <td>50.2</td>\n",
       "      <td>2187.9</td>\n",
       "      <td>14.8</td>\n",
       "    </tr>\n",
       "    <tr>\n",
       "      <th>1</th>\n",
       "      <td>36.7</td>\n",
       "      <td>7092.8</td>\n",
       "      <td>36.8</td>\n",
       "    </tr>\n",
       "    <tr>\n",
       "      <th>2</th>\n",
       "      <td>28.6</td>\n",
       "      <td>2832.8</td>\n",
       "      <td>22.3</td>\n",
       "    </tr>\n",
       "    <tr>\n",
       "      <th>3</th>\n",
       "      <td>29.1</td>\n",
       "      <td>1351.0</td>\n",
       "      <td>10.5</td>\n",
       "    </tr>\n",
       "  </tbody>\n",
       "</table>\n",
       "</div>"
      ],
      "text/plain": [
       "          Age  Credit amount  Duration\n",
       "Cluster                               \n",
       "0        50.2         2187.9      14.8\n",
       "1        36.7         7092.8      36.8\n",
       "2        28.6         2832.8      22.3\n",
       "3        29.1         1351.0      10.5"
      ]
     },
     "execution_count": 25,
     "metadata": {},
     "output_type": "execute_result"
    }
   ],
   "source": [
    "xgb=clustered_data.groupby(['Cluster']).mean().round(1)\n",
    "xgb"
   ]
  },
  {
   "cell_type": "code",
   "execution_count": 26,
   "metadata": {},
   "outputs": [
    {
     "data": {
      "application/vnd.plotly.v1+json": {
       "config": {
        "plotlyServerURL": "https://plot.ly"
       },
       "data": [
        {
         "alignmentgroup": "True",
         "hovertemplate": "variable=Age<br>Cluster=%{x}<br>value=%{y}<extra></extra>",
         "legendgroup": "Age",
         "marker": {
          "color": "#636efa",
          "pattern": {
           "shape": ""
          }
         },
         "name": "Age",
         "offsetgroup": "Age",
         "orientation": "v",
         "showlegend": true,
         "textposition": "auto",
         "type": "bar",
         "x": [
          0,
          1,
          2,
          3
         ],
         "xaxis": "x",
         "y": [
          50.2,
          36.7,
          28.6,
          29.1
         ],
         "yaxis": "y"
        },
        {
         "alignmentgroup": "True",
         "hovertemplate": "variable=Credit amount<br>Cluster=%{x}<br>value=%{y}<extra></extra>",
         "legendgroup": "Credit amount",
         "marker": {
          "color": "#EF553B",
          "pattern": {
           "shape": ""
          }
         },
         "name": "Credit amount",
         "offsetgroup": "Credit amount",
         "orientation": "v",
         "showlegend": true,
         "textposition": "auto",
         "type": "bar",
         "x": [
          0,
          1,
          2,
          3
         ],
         "xaxis": "x",
         "y": [
          2187.9,
          7092.8,
          2832.8,
          1351
         ],
         "yaxis": "y"
        },
        {
         "alignmentgroup": "True",
         "hovertemplate": "variable=Duration<br>Cluster=%{x}<br>value=%{y}<extra></extra>",
         "legendgroup": "Duration",
         "marker": {
          "color": "#00cc96",
          "pattern": {
           "shape": ""
          }
         },
         "name": "Duration",
         "offsetgroup": "Duration",
         "orientation": "v",
         "showlegend": true,
         "textposition": "auto",
         "type": "bar",
         "x": [
          0,
          1,
          2,
          3
         ],
         "xaxis": "x",
         "y": [
          14.8,
          36.8,
          22.3,
          10.5
         ],
         "yaxis": "y"
        }
       ],
       "layout": {
        "barmode": "group",
        "legend": {
         "title": {
          "text": "variable"
         },
         "tracegroupgap": 0
        },
        "template": {
         "data": {
          "bar": [
           {
            "error_x": {
             "color": "#2a3f5f"
            },
            "error_y": {
             "color": "#2a3f5f"
            },
            "marker": {
             "line": {
              "color": "#E5ECF6",
              "width": 0.5
             },
             "pattern": {
              "fillmode": "overlay",
              "size": 10,
              "solidity": 0.2
             }
            },
            "type": "bar"
           }
          ],
          "barpolar": [
           {
            "marker": {
             "line": {
              "color": "#E5ECF6",
              "width": 0.5
             },
             "pattern": {
              "fillmode": "overlay",
              "size": 10,
              "solidity": 0.2
             }
            },
            "type": "barpolar"
           }
          ],
          "carpet": [
           {
            "aaxis": {
             "endlinecolor": "#2a3f5f",
             "gridcolor": "white",
             "linecolor": "white",
             "minorgridcolor": "white",
             "startlinecolor": "#2a3f5f"
            },
            "baxis": {
             "endlinecolor": "#2a3f5f",
             "gridcolor": "white",
             "linecolor": "white",
             "minorgridcolor": "white",
             "startlinecolor": "#2a3f5f"
            },
            "type": "carpet"
           }
          ],
          "choropleth": [
           {
            "colorbar": {
             "outlinewidth": 0,
             "ticks": ""
            },
            "type": "choropleth"
           }
          ],
          "contour": [
           {
            "colorbar": {
             "outlinewidth": 0,
             "ticks": ""
            },
            "colorscale": [
             [
              0,
              "#0d0887"
             ],
             [
              0.1111111111111111,
              "#46039f"
             ],
             [
              0.2222222222222222,
              "#7201a8"
             ],
             [
              0.3333333333333333,
              "#9c179e"
             ],
             [
              0.4444444444444444,
              "#bd3786"
             ],
             [
              0.5555555555555556,
              "#d8576b"
             ],
             [
              0.6666666666666666,
              "#ed7953"
             ],
             [
              0.7777777777777778,
              "#fb9f3a"
             ],
             [
              0.8888888888888888,
              "#fdca26"
             ],
             [
              1,
              "#f0f921"
             ]
            ],
            "type": "contour"
           }
          ],
          "contourcarpet": [
           {
            "colorbar": {
             "outlinewidth": 0,
             "ticks": ""
            },
            "type": "contourcarpet"
           }
          ],
          "heatmap": [
           {
            "colorbar": {
             "outlinewidth": 0,
             "ticks": ""
            },
            "colorscale": [
             [
              0,
              "#0d0887"
             ],
             [
              0.1111111111111111,
              "#46039f"
             ],
             [
              0.2222222222222222,
              "#7201a8"
             ],
             [
              0.3333333333333333,
              "#9c179e"
             ],
             [
              0.4444444444444444,
              "#bd3786"
             ],
             [
              0.5555555555555556,
              "#d8576b"
             ],
             [
              0.6666666666666666,
              "#ed7953"
             ],
             [
              0.7777777777777778,
              "#fb9f3a"
             ],
             [
              0.8888888888888888,
              "#fdca26"
             ],
             [
              1,
              "#f0f921"
             ]
            ],
            "type": "heatmap"
           }
          ],
          "heatmapgl": [
           {
            "colorbar": {
             "outlinewidth": 0,
             "ticks": ""
            },
            "colorscale": [
             [
              0,
              "#0d0887"
             ],
             [
              0.1111111111111111,
              "#46039f"
             ],
             [
              0.2222222222222222,
              "#7201a8"
             ],
             [
              0.3333333333333333,
              "#9c179e"
             ],
             [
              0.4444444444444444,
              "#bd3786"
             ],
             [
              0.5555555555555556,
              "#d8576b"
             ],
             [
              0.6666666666666666,
              "#ed7953"
             ],
             [
              0.7777777777777778,
              "#fb9f3a"
             ],
             [
              0.8888888888888888,
              "#fdca26"
             ],
             [
              1,
              "#f0f921"
             ]
            ],
            "type": "heatmapgl"
           }
          ],
          "histogram": [
           {
            "marker": {
             "pattern": {
              "fillmode": "overlay",
              "size": 10,
              "solidity": 0.2
             }
            },
            "type": "histogram"
           }
          ],
          "histogram2d": [
           {
            "colorbar": {
             "outlinewidth": 0,
             "ticks": ""
            },
            "colorscale": [
             [
              0,
              "#0d0887"
             ],
             [
              0.1111111111111111,
              "#46039f"
             ],
             [
              0.2222222222222222,
              "#7201a8"
             ],
             [
              0.3333333333333333,
              "#9c179e"
             ],
             [
              0.4444444444444444,
              "#bd3786"
             ],
             [
              0.5555555555555556,
              "#d8576b"
             ],
             [
              0.6666666666666666,
              "#ed7953"
             ],
             [
              0.7777777777777778,
              "#fb9f3a"
             ],
             [
              0.8888888888888888,
              "#fdca26"
             ],
             [
              1,
              "#f0f921"
             ]
            ],
            "type": "histogram2d"
           }
          ],
          "histogram2dcontour": [
           {
            "colorbar": {
             "outlinewidth": 0,
             "ticks": ""
            },
            "colorscale": [
             [
              0,
              "#0d0887"
             ],
             [
              0.1111111111111111,
              "#46039f"
             ],
             [
              0.2222222222222222,
              "#7201a8"
             ],
             [
              0.3333333333333333,
              "#9c179e"
             ],
             [
              0.4444444444444444,
              "#bd3786"
             ],
             [
              0.5555555555555556,
              "#d8576b"
             ],
             [
              0.6666666666666666,
              "#ed7953"
             ],
             [
              0.7777777777777778,
              "#fb9f3a"
             ],
             [
              0.8888888888888888,
              "#fdca26"
             ],
             [
              1,
              "#f0f921"
             ]
            ],
            "type": "histogram2dcontour"
           }
          ],
          "mesh3d": [
           {
            "colorbar": {
             "outlinewidth": 0,
             "ticks": ""
            },
            "type": "mesh3d"
           }
          ],
          "parcoords": [
           {
            "line": {
             "colorbar": {
              "outlinewidth": 0,
              "ticks": ""
             }
            },
            "type": "parcoords"
           }
          ],
          "pie": [
           {
            "automargin": true,
            "type": "pie"
           }
          ],
          "scatter": [
           {
            "fillpattern": {
             "fillmode": "overlay",
             "size": 10,
             "solidity": 0.2
            },
            "type": "scatter"
           }
          ],
          "scatter3d": [
           {
            "line": {
             "colorbar": {
              "outlinewidth": 0,
              "ticks": ""
             }
            },
            "marker": {
             "colorbar": {
              "outlinewidth": 0,
              "ticks": ""
             }
            },
            "type": "scatter3d"
           }
          ],
          "scattercarpet": [
           {
            "marker": {
             "colorbar": {
              "outlinewidth": 0,
              "ticks": ""
             }
            },
            "type": "scattercarpet"
           }
          ],
          "scattergeo": [
           {
            "marker": {
             "colorbar": {
              "outlinewidth": 0,
              "ticks": ""
             }
            },
            "type": "scattergeo"
           }
          ],
          "scattergl": [
           {
            "marker": {
             "colorbar": {
              "outlinewidth": 0,
              "ticks": ""
             }
            },
            "type": "scattergl"
           }
          ],
          "scattermapbox": [
           {
            "marker": {
             "colorbar": {
              "outlinewidth": 0,
              "ticks": ""
             }
            },
            "type": "scattermapbox"
           }
          ],
          "scatterpolar": [
           {
            "marker": {
             "colorbar": {
              "outlinewidth": 0,
              "ticks": ""
             }
            },
            "type": "scatterpolar"
           }
          ],
          "scatterpolargl": [
           {
            "marker": {
             "colorbar": {
              "outlinewidth": 0,
              "ticks": ""
             }
            },
            "type": "scatterpolargl"
           }
          ],
          "scatterternary": [
           {
            "marker": {
             "colorbar": {
              "outlinewidth": 0,
              "ticks": ""
             }
            },
            "type": "scatterternary"
           }
          ],
          "surface": [
           {
            "colorbar": {
             "outlinewidth": 0,
             "ticks": ""
            },
            "colorscale": [
             [
              0,
              "#0d0887"
             ],
             [
              0.1111111111111111,
              "#46039f"
             ],
             [
              0.2222222222222222,
              "#7201a8"
             ],
             [
              0.3333333333333333,
              "#9c179e"
             ],
             [
              0.4444444444444444,
              "#bd3786"
             ],
             [
              0.5555555555555556,
              "#d8576b"
             ],
             [
              0.6666666666666666,
              "#ed7953"
             ],
             [
              0.7777777777777778,
              "#fb9f3a"
             ],
             [
              0.8888888888888888,
              "#fdca26"
             ],
             [
              1,
              "#f0f921"
             ]
            ],
            "type": "surface"
           }
          ],
          "table": [
           {
            "cells": {
             "fill": {
              "color": "#EBF0F8"
             },
             "line": {
              "color": "white"
             }
            },
            "header": {
             "fill": {
              "color": "#C8D4E3"
             },
             "line": {
              "color": "white"
             }
            },
            "type": "table"
           }
          ]
         },
         "layout": {
          "annotationdefaults": {
           "arrowcolor": "#2a3f5f",
           "arrowhead": 0,
           "arrowwidth": 1
          },
          "autotypenumbers": "strict",
          "coloraxis": {
           "colorbar": {
            "outlinewidth": 0,
            "ticks": ""
           }
          },
          "colorscale": {
           "diverging": [
            [
             0,
             "#8e0152"
            ],
            [
             0.1,
             "#c51b7d"
            ],
            [
             0.2,
             "#de77ae"
            ],
            [
             0.3,
             "#f1b6da"
            ],
            [
             0.4,
             "#fde0ef"
            ],
            [
             0.5,
             "#f7f7f7"
            ],
            [
             0.6,
             "#e6f5d0"
            ],
            [
             0.7,
             "#b8e186"
            ],
            [
             0.8,
             "#7fbc41"
            ],
            [
             0.9,
             "#4d9221"
            ],
            [
             1,
             "#276419"
            ]
           ],
           "sequential": [
            [
             0,
             "#0d0887"
            ],
            [
             0.1111111111111111,
             "#46039f"
            ],
            [
             0.2222222222222222,
             "#7201a8"
            ],
            [
             0.3333333333333333,
             "#9c179e"
            ],
            [
             0.4444444444444444,
             "#bd3786"
            ],
            [
             0.5555555555555556,
             "#d8576b"
            ],
            [
             0.6666666666666666,
             "#ed7953"
            ],
            [
             0.7777777777777778,
             "#fb9f3a"
            ],
            [
             0.8888888888888888,
             "#fdca26"
            ],
            [
             1,
             "#f0f921"
            ]
           ],
           "sequentialminus": [
            [
             0,
             "#0d0887"
            ],
            [
             0.1111111111111111,
             "#46039f"
            ],
            [
             0.2222222222222222,
             "#7201a8"
            ],
            [
             0.3333333333333333,
             "#9c179e"
            ],
            [
             0.4444444444444444,
             "#bd3786"
            ],
            [
             0.5555555555555556,
             "#d8576b"
            ],
            [
             0.6666666666666666,
             "#ed7953"
            ],
            [
             0.7777777777777778,
             "#fb9f3a"
            ],
            [
             0.8888888888888888,
             "#fdca26"
            ],
            [
             1,
             "#f0f921"
            ]
           ]
          },
          "colorway": [
           "#636efa",
           "#EF553B",
           "#00cc96",
           "#ab63fa",
           "#FFA15A",
           "#19d3f3",
           "#FF6692",
           "#B6E880",
           "#FF97FF",
           "#FECB52"
          ],
          "font": {
           "color": "#2a3f5f"
          },
          "geo": {
           "bgcolor": "white",
           "lakecolor": "white",
           "landcolor": "#E5ECF6",
           "showlakes": true,
           "showland": true,
           "subunitcolor": "white"
          },
          "hoverlabel": {
           "align": "left"
          },
          "hovermode": "closest",
          "mapbox": {
           "style": "light"
          },
          "paper_bgcolor": "white",
          "plot_bgcolor": "#E5ECF6",
          "polar": {
           "angularaxis": {
            "gridcolor": "white",
            "linecolor": "white",
            "ticks": ""
           },
           "bgcolor": "#E5ECF6",
           "radialaxis": {
            "gridcolor": "white",
            "linecolor": "white",
            "ticks": ""
           }
          },
          "scene": {
           "xaxis": {
            "backgroundcolor": "#E5ECF6",
            "gridcolor": "white",
            "gridwidth": 2,
            "linecolor": "white",
            "showbackground": true,
            "ticks": "",
            "zerolinecolor": "white"
           },
           "yaxis": {
            "backgroundcolor": "#E5ECF6",
            "gridcolor": "white",
            "gridwidth": 2,
            "linecolor": "white",
            "showbackground": true,
            "ticks": "",
            "zerolinecolor": "white"
           },
           "zaxis": {
            "backgroundcolor": "#E5ECF6",
            "gridcolor": "white",
            "gridwidth": 2,
            "linecolor": "white",
            "showbackground": true,
            "ticks": "",
            "zerolinecolor": "white"
           }
          },
          "shapedefaults": {
           "line": {
            "color": "#2a3f5f"
           }
          },
          "ternary": {
           "aaxis": {
            "gridcolor": "white",
            "linecolor": "white",
            "ticks": ""
           },
           "baxis": {
            "gridcolor": "white",
            "linecolor": "white",
            "ticks": ""
           },
           "bgcolor": "#E5ECF6",
           "caxis": {
            "gridcolor": "white",
            "linecolor": "white",
            "ticks": ""
           }
          },
          "title": {
           "x": 0.05
          },
          "xaxis": {
           "automargin": true,
           "gridcolor": "white",
           "linecolor": "white",
           "ticks": "",
           "title": {
            "standoff": 15
           },
           "zerolinecolor": "white",
           "zerolinewidth": 2
          },
          "yaxis": {
           "automargin": true,
           "gridcolor": "white",
           "linecolor": "white",
           "ticks": "",
           "title": {
            "standoff": 15
           },
           "zerolinecolor": "white",
           "zerolinewidth": 2
          }
         }
        },
        "title": {
         "text": "Mean Variables by Cluster"
        },
        "xaxis": {
         "anchor": "y",
         "domain": [
          0,
          1
         ],
         "title": {
          "text": "Cluster"
         }
        },
        "yaxis": {
         "anchor": "x",
         "domain": [
          0,
          1
         ],
         "title": {
          "text": "Number"
         }
        }
       }
      }
     },
     "metadata": {},
     "output_type": "display_data"
    }
   ],
   "source": [
    "# Create side-by-side bar chart of `xgb`\n",
    "fig = px.bar(\n",
    "    xgb,\n",
    "    barmode=\"group\",\n",
    "    title=\"Mean Variables by Cluster\"\n",
    ")\n",
    "\n",
    "fig.update_layout(xaxis_title=\"Cluster\", yaxis_title=\"Number\")\n",
    "fig.show()"
   ]
  },
  {
   "attachments": {},
   "cell_type": "markdown",
   "metadata": {},
   "source": [
    "First, let us take a look at the Credit amount column. You might think that it would scale as we move down the clusters, but it doesn't. The cluster with the lowest Credit amount is 3, whiles cluster 1 has the highest Credit amount. \n",
    "\n",
    "Age decreases as we go down the clusters, However cluster 3 has a slightly higher age than cluster 2.\n",
    "\n",
    "Cluster 1 has the highest duration followed by cluster 2 and 1, whiles clsuter 3 has the lowest duration.\n"
   ]
  },
  {
   "attachments": {},
   "cell_type": "markdown",
   "metadata": {},
   "source": [
    "**Clusters,**\n",
    "\n",
    "Cluster 0 – mid-range mean of credit amount, short duration, older customers\n",
    "\n",
    "Cluster 1 – high mean of credit amount, long duration,early middle-aged customers\n",
    "\n",
    "Cluster 2 - mid-range mean of credit amount, middle-time duration, young customers\n",
    "\n",
    "Cluster 3 - low mean of credit amount, shortest duration, young customers"
   ]
  },
  {
   "cell_type": "code",
   "execution_count": 27,
   "metadata": {},
   "outputs": [
    {
     "name": "stdout",
     "output_type": "stream",
     "text": [
      "X_pca shape: (1000, 2)\n"
     ]
    },
    {
     "data": {
      "text/html": [
       "<div>\n",
       "<style scoped>\n",
       "    .dataframe tbody tr th:only-of-type {\n",
       "        vertical-align: middle;\n",
       "    }\n",
       "\n",
       "    .dataframe tbody tr th {\n",
       "        vertical-align: top;\n",
       "    }\n",
       "\n",
       "    .dataframe thead th {\n",
       "        text-align: right;\n",
       "    }\n",
       "</style>\n",
       "<table border=\"1\" class=\"dataframe\">\n",
       "  <thead>\n",
       "    <tr style=\"text-align: right;\">\n",
       "      <th></th>\n",
       "      <th>PC1</th>\n",
       "      <th>PC2</th>\n",
       "    </tr>\n",
       "  </thead>\n",
       "  <tbody>\n",
       "    <tr>\n",
       "      <th>0</th>\n",
       "      <td>2.039569</td>\n",
       "      <td>2.263394</td>\n",
       "    </tr>\n",
       "    <tr>\n",
       "      <th>1</th>\n",
       "      <td>-2.068637</td>\n",
       "      <td>-1.418051</td>\n",
       "    </tr>\n",
       "    <tr>\n",
       "      <th>2</th>\n",
       "      <td>0.637681</td>\n",
       "      <td>1.234344</td>\n",
       "    </tr>\n",
       "    <tr>\n",
       "      <th>3</th>\n",
       "      <td>-2.098283</td>\n",
       "      <td>0.998277</td>\n",
       "    </tr>\n",
       "    <tr>\n",
       "      <th>4</th>\n",
       "      <td>-0.965198</td>\n",
       "      <td>1.532215</td>\n",
       "    </tr>\n",
       "  </tbody>\n",
       "</table>\n",
       "</div>"
      ],
      "text/plain": [
       "        PC1       PC2\n",
       "0  2.039569  2.263394\n",
       "1 -2.068637 -1.418051\n",
       "2  0.637681  1.234344\n",
       "3 -2.098283  0.998277\n",
       "4 -0.965198  1.532215"
      ]
     },
     "execution_count": 27,
     "metadata": {},
     "output_type": "execute_result"
    }
   ],
   "source": [
    "# Instantiate transformer\n",
    "x = StandardScaler().fit_transform(cluster_log)\n",
    "pca = PCA(n_components=2, random_state=42)\n",
    "\n",
    "# Transform `X`\n",
    "X_t = pca.fit_transform(x)\n",
    "\n",
    "# Put `X_t` into DataFrame\n",
    "X_pca = pd.DataFrame(X_t, columns=[\"PC1\",\"PC2\"])\n",
    "\n",
    "print(\"X_pca shape:\", X_pca.shape)\n",
    "X_pca.head()"
   ]
  },
  {
   "attachments": {},
   "cell_type": "markdown",
   "metadata": {},
   "source": [
    "## PCA."
   ]
  },
  {
   "cell_type": "code",
   "execution_count": 28,
   "metadata": {},
   "outputs": [
    {
     "data": {
      "application/vnd.plotly.v1+json": {
       "config": {
        "plotlyServerURL": "https://plot.ly"
       },
       "data": [
        {
         "hovertemplate": "PC1=%{x}<br>PC2=%{y}<br>color=%{marker.color}<extra></extra>",
         "legendgroup": "",
         "marker": {
          "color": [
           0,
           1,
           0,
           1,
           1,
           1,
           0,
           1,
           0,
           1,
           3,
           1,
           3,
           0,
           3,
           2,
           0,
           1,
           1,
           2,
           0,
           0,
           0,
           0,
           3,
           3,
           3,
           3,
           3,
           1,
           2,
           2,
           2,
           0,
           3,
           1,
           1,
           2,
           3,
           3,
           2,
           3,
           1,
           1,
           1,
           3,
           1,
           3,
           0,
           3,
           2,
           1,
           3,
           2,
           0,
           3,
           0,
           1,
           2,
           1,
           3,
           0,
           0,
           1,
           2,
           1,
           3,
           3,
           2,
           2,
           1,
           0,
           0,
           1,
           2,
           0,
           1,
           0,
           1,
           2,
           1,
           0,
           2,
           0,
           0,
           3,
           2,
           1,
           2,
           3,
           0,
           0,
           3,
           2,
           0,
           1,
           0,
           2,
           2,
           1,
           0,
           2,
           3,
           3,
           3,
           1,
           1,
           2,
           1,
           3,
           3,
           3,
           2,
           1,
           3,
           1,
           1,
           3,
           2,
           0,
           2,
           1,
           3,
           0,
           2,
           3,
           3,
           3,
           3,
           2,
           1,
           1,
           2,
           0,
           1,
           3,
           1,
           0,
           2,
           0,
           3,
           1,
           2,
           2,
           2,
           1,
           3,
           0,
           1,
           0,
           0,
           0,
           1,
           1,
           1,
           3,
           0,
           0,
           1,
           3,
           2,
           3,
           3,
           0,
           2,
           3,
           3,
           3,
           2,
           2,
           3,
           3,
           2,
           3,
           2,
           1,
           0,
           0,
           3,
           0,
           1,
           1,
           0,
           0,
           3,
           3,
           0,
           0,
           3,
           2,
           0,
           1,
           1,
           3,
           2,
           3,
           3,
           3,
           2,
           1,
           0,
           3,
           2,
           3,
           0,
           1,
           0,
           3,
           2,
           0,
           3,
           1,
           1,
           0,
           1,
           3,
           2,
           2,
           2,
           0,
           3,
           3,
           3,
           2,
           2,
           2,
           1,
           0,
           3,
           2,
           2,
           0,
           3,
           3,
           3,
           2,
           2,
           0,
           3,
           2,
           2,
           0,
           1,
           3,
           2,
           2,
           0,
           3,
           2,
           3,
           3,
           0,
           2,
           1,
           3,
           1,
           2,
           3,
           2,
           0,
           3,
           0,
           1,
           0,
           3,
           3,
           1,
           2,
           1,
           2,
           2,
           3,
           1,
           1,
           1,
           3,
           2,
           0,
           3,
           2,
           2,
           0,
           0,
           0,
           1,
           1,
           1,
           1,
           0,
           0,
           3,
           1,
           1,
           1,
           1,
           1,
           2,
           0,
           0,
           2,
           0,
           1,
           2,
           0,
           1,
           3,
           2,
           3,
           3,
           3,
           1,
           2,
           2,
           3,
           3,
           2,
           3,
           1,
           3,
           2,
           2,
           2,
           2,
           2,
           3,
           0,
           0,
           2,
           1,
           3,
           0,
           2,
           1,
           1,
           2,
           0,
           3,
           3,
           2,
           3,
           2,
           2,
           2,
           2,
           0,
           0,
           3,
           2,
           3,
           3,
           3,
           3,
           2,
           2,
           0,
           2,
           0,
           1,
           3,
           2,
           0,
           0,
           0,
           3,
           2,
           3,
           2,
           2,
           1,
           0,
           1,
           1,
           3,
           1,
           1,
           1,
           2,
           3,
           1,
           0,
           0,
           1,
           2,
           3,
           2,
           2,
           3,
           1,
           2,
           3,
           2,
           3,
           1,
           3,
           3,
           1,
           0,
           1,
           0,
           0,
           0,
           2,
           1,
           3,
           0,
           2,
           0,
           3,
           2,
           3,
           2,
           1,
           0,
           0,
           2,
           1,
           2,
           2,
           2,
           3,
           2,
           3,
           0,
           2,
           2,
           2,
           2,
           0,
           3,
           0,
           0,
           1,
           3,
           2,
           3,
           3,
           3,
           2,
           1,
           3,
           0,
           3,
           2,
           0,
           1,
           0,
           2,
           3,
           0,
           0,
           1,
           3,
           2,
           2,
           1,
           2,
           0,
           2,
           3,
           2,
           1,
           0,
           2,
           3,
           2,
           0,
           2,
           1,
           2,
           1,
           2,
           3,
           3,
           3,
           2,
           2,
           2,
           2,
           0,
           0,
           2,
           2,
           0,
           3,
           0,
           0,
           0,
           0,
           3,
           3,
           3,
           1,
           3,
           3,
           0,
           2,
           1,
           0,
           2,
           3,
           2,
           1,
           0,
           2,
           2,
           3,
           2,
           1,
           2,
           1,
           3,
           1,
           2,
           3,
           0,
           3,
           3,
           1,
           0,
           3,
           1,
           2,
           1,
           2,
           3,
           1,
           3,
           3,
           2,
           3,
           2,
           2,
           0,
           2,
           2,
           2,
           0,
           2,
           1,
           0,
           3,
           0,
           1,
           2,
           0,
           0,
           2,
           2,
           3,
           1,
           3,
           0,
           1,
           3,
           0,
           3,
           2,
           2,
           2,
           2,
           0,
           2,
           3,
           1,
           1,
           2,
           3,
           2,
           1,
           1,
           2,
           1,
           2,
           3,
           3,
           2,
           2,
           2,
           2,
           2,
           3,
           0,
           3,
           2,
           0,
           2,
           3,
           3,
           0,
           0,
           0,
           0,
           2,
           2,
           0,
           3,
           2,
           1,
           2,
           2,
           0,
           3,
           2,
           2,
           3,
           2,
           0,
           1,
           2,
           0,
           3,
           0,
           2,
           2,
           2,
           1,
           1,
           3,
           2,
           0,
           2,
           2,
           1,
           3,
           0,
           2,
           0,
           3,
           1,
           0,
           2,
           0,
           3,
           3,
           2,
           0,
           2,
           1,
           3,
           1,
           3,
           0,
           0,
           2,
           2,
           1,
           1,
           3,
           0,
           3,
           1,
           0,
           0,
           1,
           2,
           2,
           0,
           1,
           2,
           1,
           3,
           3,
           0,
           3,
           0,
           1,
           1,
           1,
           0,
           1,
           2,
           1,
           1,
           3,
           0,
           2,
           1,
           1,
           0,
           2,
           0,
           0,
           3,
           1,
           1,
           1,
           3,
           2,
           3,
           2,
           3,
           2,
           2,
           0,
           2,
           0,
           3,
           3,
           2,
           0,
           3,
           1,
           0,
           1,
           2,
           2,
           1,
           2,
           3,
           3,
           3,
           3,
           0,
           3,
           1,
           1,
           1,
           2,
           2,
           1,
           3,
           3,
           3,
           0,
           2,
           3,
           0,
           2,
           1,
           2,
           1,
           2,
           0,
           2,
           3,
           1,
           1,
           2,
           0,
           2,
           2,
           3,
           0,
           2,
           1,
           3,
           2,
           3,
           2,
           2,
           0,
           3,
           3,
           1,
           0,
           2,
           0,
           0,
           2,
           3,
           0,
           2,
           3,
           1,
           2,
           0,
           2,
           3,
           2,
           0,
           2,
           1,
           2,
           0,
           0,
           2,
           1,
           2,
           1,
           0,
           1,
           0,
           3,
           3,
           0,
           2,
           2,
           1,
           1,
           1,
           0,
           1,
           3,
           0,
           2,
           3,
           1,
           3,
           0,
           3,
           0,
           0,
           2,
           3,
           2,
           1,
           3,
           0,
           1,
           2,
           3,
           3,
           1,
           1,
           1,
           1,
           0,
           3,
           1,
           2,
           3,
           2,
           1,
           0,
           2,
           2,
           2,
           2,
           1,
           1,
           0,
           2,
           1,
           1,
           2,
           0,
           3,
           3,
           0,
           0,
           1,
           2,
           2,
           0,
           0,
           2,
           0,
           2,
           0,
           0,
           2,
           1,
           3,
           2,
           1,
           2,
           3,
           2,
           2,
           3,
           2,
           2,
           2,
           1,
           3,
           2,
           2,
           0,
           1,
           3,
           1,
           0,
           2,
           3,
           2,
           0,
           2,
           2,
           3,
           1,
           1,
           1,
           2,
           0,
           1,
           0,
           2,
           1,
           1,
           1,
           0,
           0,
           0,
           1,
           3,
           1,
           2,
           3,
           2,
           0,
           0,
           0,
           1,
           0,
           2,
           3,
           2,
           2,
           0,
           3,
           1,
           2,
           2,
           3,
           2,
           1,
           3,
           0,
           2,
           1,
           2,
           1,
           3,
           3,
           1,
           0,
           3,
           1,
           0,
           0,
           2,
           3,
           3,
           0,
           3,
           2,
           3,
           3,
           1,
           1,
           0,
           3,
           2,
           3,
           0,
           1,
           2,
           0,
           0,
           2,
           0,
           2,
           2,
           1,
           3,
           0,
           1,
           3,
           1,
           2,
           3,
           0,
           2,
           2,
           3,
           2,
           2,
           0,
           1,
           0,
           3,
           1,
           2,
           1,
           2,
           0,
           0,
           0,
           0,
           3,
           1,
           1,
           2,
           1,
           2,
           3,
           1,
           0,
           1,
           0,
           0,
           3,
           2,
           1,
           0,
           3,
           1,
           3,
           2,
           1
          ],
          "coloraxis": "coloraxis",
          "symbol": "circle"
         },
         "mode": "markers",
         "name": "",
         "orientation": "v",
         "showlegend": false,
         "type": "scatter",
         "x": [
          2.039569116118339,
          -2.0686370736505477,
          0.6376806489956327,
          -2.0982828978249257,
          -0.9651980581094148,
          -2.0594194100105803,
          -0.4729486978866085,
          -1.8184467088424514,
          0.31321031961896817,
          -1.3588744897602476,
          1.0159046251896413,
          -1.7669534416635815,
          0.8310774135994793,
          0.3210191530521989,
          0.6817751937752975,
          0.20420381858022213,
          -0.3304531391229607,
          -1.763104625631921,
          -1.8450945211779566,
          -0.6939904841123816,
          0.9693099079752614,
          1.258602255988323,
          0.7966844965567279,
          0.7645983526303177,
          0.8147982333978678,
          1.8373079946728503,
          2.9098430333954073,
          2.1106462995365907,
          1.1316791244440387,
          -2.372517772888997,
          0.20034283995632618,
          -0.8506849644263135,
          -0.8353076361745363,
          1.1112648245781125,
          0.9228109012716763,
          -1.7729402209162028,
          -2.0621188576405127,
          0.11792794834567616,
          1.3230329724457228,
          2.3077271270064657,
          -0.6175993737319773,
          1.1211241233071763,
          -0.8522059270135425,
          -1.5247737204787915,
          -2.0112917419654703,
          1.0852696507648976,
          -0.802599584210402,
          1.8121382879404535,
          -0.40309287881183387,
          0.5979375129500833,
          -0.34928126573266,
          -1.3435639593896416,
          1.0393892418035988,
          -0.3302817413353092,
          -0.7390750351288979,
          2.319984530162081,
          -0.3822292885453642,
          -2.1201615982253856,
          0.1379413025052312,
          -1.756410879894308,
          1.3074992375599948,
          0.6503624899455197,
          -0.6144126093765193,
          -2.862553615392489,
          -0.6410704206383211,
          -1.175131980739955,
          0.5590344905220995,
          1.233379669190329,
          -0.5942188634343657,
          -0.8789966171564345,
          -1.9754312582331568,
          2.2470635641524463,
          1.6693851324636482,
          -1.851348169506405,
          -0.6630642250924712,
          0.9529283752808508,
          -1.4981158529309078,
          -0.0012919077264376532,
          -2.5803203555922507,
          -1.0966618480522028,
          -1.1629127592563007,
          0.8602406037301248,
          0.3452074554991701,
          -0.02861330455540883,
          0.7742477300376011,
          0.9504131378599263,
          0.5297210330624028,
          -2.3346405785203546,
          0.03690651137666002,
          1.1678731382336336,
          1.7606963296560956,
          1.007651796465324,
          1.48222936860489,
          -0.7812728613898103,
          1.0683944395628726,
          -3.022308206035754,
          0.6943792417514217,
          -0.09156977387807025,
          -0.8246350493508058,
          -1.1153770716304874,
          0.1023716907983463,
          -0.8552374322920658,
          2.15437681204638,
          1.0378278286980573,
          0.44118407032939694,
          -1.8082407046841475,
          -0.8994427784880789,
          -0.36883704403223816,
          -1.4351045734360974,
          0.7809900667908163,
          1.7756524886274174,
          1.824368659171614,
          -0.9005886378155705,
          -1.9600075755377744,
          0.8090305456838897,
          -1.5382434632571618,
          -2.048723036795715,
          0.790865941855123,
          -1.3094067036120844,
          0.5000145240878956,
          0.018337359265803568,
          -0.7784567958308449,
          0.7290175163333337,
          1.7798977217206022,
          0.16953498079898696,
          0.5832488218903162,
          1.6161121903364435,
          1.6747714652680499,
          0.7138499552042871,
          0.12479644376580436,
          -2.383854401225059,
          -1.8271524275295115,
          0.08025747332160194,
          0.19090612197262488,
          -2.829326879598841,
          1.092636611521111,
          -1.6871641329590243,
          1.5799838183433539,
          0.09664818199524963,
          0.7265713055916532,
          2.4136642161321453,
          -1.4947325873728976,
          -0.8457784682964973,
          -0.07301032746319035,
          -0.18981257345630675,
          -1.575124342149378,
          2.27071453738865,
          1.6627236903501332,
          -1.6040781259265606,
          0.39499468856555003,
          1.8697526441579795,
          0.9146617745282974,
          -1.6952018565082334,
          -1.4424698227137922,
          -1.3253954278663236,
          1.005233698843817,
          1.4286750083523907,
          2.2875669455044623,
          -0.6973733188892733,
          1.5382900107132125,
          -0.5191520334388167,
          0.725575337636044,
          0.8004929533379352,
          -0.2451798041292866,
          0.03446973126809461,
          1.1230762769760394,
          0.6707668360892513,
          0.9226137947982711,
          -0.8466025321289777,
          -0.17317253887568085,
          1.0511278677362743,
          1.5006852587226687,
          -0.22367245002720698,
          1.4536495103408886,
          -0.5430143283749667,
          -1.6275706320335082,
          0.43600747016694924,
          3.1459562731469,
          0.65659678534423,
          1.165447573480926,
          -2.1297863618572768,
          -1.4278198134785205,
          0.15848698224147104,
          -0.73914306488976,
          0.9026823286636146,
          0.7191498510165164,
          0.21000080430705262,
          0.8435790504537952,
          1.5901867466295636,
          -0.287894405763147,
          -0.9098606061513472,
          -1.632287973598558,
          -0.9442338901539691,
          1.4286665846910822,
          -1.3804869721282818,
          1.2587622845452622,
          1.809669909560524,
          1.3036534906200254,
          -0.4829620165759021,
          -0.5265355342730087,
          1.7262313710642774,
          1.1166584704375577,
          -1.2167843361691655,
          1.3294253090598718,
          0.9224904350565004,
          -1.9757069225540382,
          0.6987754354032965,
          0.9329997377895861,
          -1.319687213492013,
          1.0067049163921988,
          0.6039179239928927,
          -1.2554102641975735,
          -1.1893795132306078,
          -0.3645001257141591,
          -1.1190875624553827,
          2.1975661930710078,
          -0.253319703963292,
          -1.3334342153970473,
          -0.6012380712480435,
          1.2739923757067833,
          1.6821962570978073,
          1.077804150091799,
          1.5827667911704708,
          -0.562603829780876,
          -0.40362838591391503,
          -0.9517882930912507,
          -2.6061109404558858,
          -0.5584513865797569,
          1.2340865322830679,
          -0.6467323794283535,
          -1.389087324211127,
          0.8281443569937805,
          0.5884228424375746,
          0.8889612797602686,
          2.237922163197647,
          -0.12184363847362492,
          -0.34986567885321707,
          -0.2759855927990601,
          1.0486507725961627,
          -0.6651311513585344,
          0.5022794188607118,
          1.7325978547204013,
          -1.8276088472489647,
          1.10351195365537,
          0.15514740511423508,
          0.1994374462900525,
          1.6189190272428722,
          1.954965570878888,
          -0.18410526486226644,
          1.5082152161871032,
          2.5032984013223207,
          0.5671518171702793,
          -0.5631305755007922,
          -0.8567744985784436,
          0.9531053034726797,
          -2.522227763390957,
          -0.46006414928074346,
          0.5683010568314332,
          -0.24510662205274542,
          1.299901998847401,
          0.7984868243900728,
          0.04908282627798919,
          -0.7271181399537412,
          0.40472099159606456,
          1.305672709799012,
          1.215383264635012,
          -1.7274448761572616,
          0.05681403245340862,
          -0.8808649103930436,
          0.4091679777098927,
          -0.11073744959786452,
          0.9785513294468278,
          -2.6756375849177596,
          -1.4420353457146886,
          -2.0963407901005917,
          0.7202184951848547,
          -0.03646002269716032,
          1.099252449600757,
          0.7253180477072897,
          -0.16297693995959844,
          -0.13244158228603367,
          0.9000543353900372,
          0.48302512656082025,
          0.6810404436954702,
          -0.7899377004760946,
          -2.5373681510549257,
          -1.8559435092416448,
          -2.2584995095661755,
          1.2308886462497475,
          0.4447093903586279,
          1.187943433398663,
          -2.1130958272881286,
          -1.2330113255100468,
          -1.6268405723622812,
          -2.229014552706533,
          -2.522339854127169,
          -0.17187324095086642,
          1.295526192631048,
          -0.03277266244342598,
          -0.3261126164632665,
          2.524087343420328,
          -1.254163467386775,
          0.1741499330611099,
          1.4987251936306654,
          -2.4906683332351305,
          1.7240286937594007,
          -1.2959176410075093,
          1.5658656887038256,
          1.546991557616627,
          2.760771955539588,
          -1.9238519129081948,
          -1.144540665931294,
          -0.7905447457978708,
          1.5953084444931553,
          2.2349248280516245,
          -0.9846670813906109,
          1.6025093207478385,
          -0.8714890933201035,
          1.5962619808287328,
          -0.18958676298475446,
          -1.1691882414750023,
          -0.17175771688705432,
          -0.5361954902903592,
          -0.12159012079525215,
          0.7653812625399932,
          0.6708294538518895,
          -0.28849581331464813,
          0.05167996810054888,
          -1.4285714802311489,
          2.0441655063658954,
          -1.2129351069858656,
          0.2077315167952467,
          -2.5314780997999113,
          -2.667354663686517,
          -0.8850925926919527,
          1.0351265866427903,
          0.4709034876352954,
          0.755099929470688,
          -0.8805613508483618,
          1.1103881858579314,
          -1.185688265866586,
          -0.5910257768454587,
          -0.3038557726494793,
          -0.5732278372190783,
          0.258091934523688,
          0.6843292141611278,
          1.260589041292322,
          -0.8036325823898963,
          1.6157985812226074,
          1.5068562891824537,
          1.4007217661624005,
          1.6521990931816262,
          -0.27112785711468956,
          -0.39864986766842503,
          1.817107293508415,
          0.20074025680612193,
          0.5409992529036703,
          -1.4421819490814705,
          1.4919070772760543,
          -0.669267084775342,
          0.6424431072636223,
          0.17284888669025794,
          0.5469645698861004,
          1.56100876909821,
          -0.06569449262241031,
          0.889518744640225,
          -0.4615633916684257,
          -0.4312471165308202,
          -1.1642396934048869,
          -0.19994306236411824,
          -1.075500529933699,
          -0.8579312224111137,
          0.7706475506732002,
          -3.008716060294571,
          -3.0785029094215393,
          -2.2550365269588433,
          0.01976269047670309,
          2.091085509680948,
          -2.4329056656085526,
          3.0835454931527404,
          -0.052776306252209734,
          -1.5365957109037305,
          0.2873369142205403,
          0.995130803646572,
          -1.1806921775479162,
          0.02514851833887417,
          0.6345905607473833,
          -1.0178670833342818,
          0.21860200558738174,
          1.2703332059200971,
          0.22946502602996088,
          1.2422842450002929,
          -1.1172750097953552,
          1.502221944356904,
          0.8212701683866517,
          -2.402529752674417,
          0.45964298879494486,
          -0.807101942658661,
          1.1221916980582962,
          0.07795584441901231,
          0.4452591693740602,
          0.19043672549517968,
          -1.5476341318562201,
          1.271247211975284,
          -0.16204898188689587,
          -0.2513099431524504,
          -0.25959605461926877,
          0.9396250784965482,
          -0.6563853785942523,
          1.3184418288100153,
          -0.22708117988288148,
          -1.7517304896092862,
          0.542637115110513,
          1.0887018386514322,
          0.14449857221221143,
          -1.660704918218052,
          0.41384856729594754,
          -1.1932732932666352,
          -0.3411182247617067,
          0.7453343129759199,
          -0.09433236289964665,
          0.6240420819149495,
          1.3462911641226345,
          0.17550222115318972,
          0.32678139564391806,
          -0.18734102908339945,
          -0.6840166707890114,
          0.685946939307846,
          1.3333058489581362,
          0.6699440531745791,
          1.2860232066293662,
          -1.7868774883450125,
          1.555923829929768,
          -0.22367946350244985,
          0.9104286605946391,
          0.891962099025945,
          2.4645565837697965,
          0.21357733115174604,
          -1.298998295612421,
          1.7057904600819396,
          0.7143907046905926,
          0.8284050434097956,
          -0.23625968168082895,
          1.5952421748627004,
          -1.899933478227723,
          1.4462762108915848,
          -0.6131725235087091,
          1.0755405960433622,
          0.9996496782893275,
          0.6829716790338597,
          -2.2546148976673104,
          2.7055894284241497,
          0.35512308603370696,
          -0.45530612331231973,
          -1.0029505937389667,
          -0.47509629583626484,
          0.14995507254000917,
          0.17139189586635903,
          3.074293149794783,
          -0.6071913474702226,
          -1.220331829820105,
          0.5182657958211158,
          0.2737917784480181,
          1.5452389516092102,
          0.17782943334008086,
          -0.4856955801072317,
          -0.03909391228583512,
          -2.213431297765992,
          -0.9004556256022359,
          -0.9657095869900116,
          -0.6301132259582958,
          2.8170556823464397,
          1.9973342790842392,
          1.9321356049435636,
          0.583395665425827,
          -0.2718927794229833,
          -1.0441442821226015,
          -1.083255500390129,
          1.2576009429808603,
          0.6746027941805095,
          0.08513540108955701,
          0.24511259587561915,
          -0.9606970682637541,
          1.0331225543786842,
          1.1640039841107026,
          1.9774196737859266,
          0.2936722526103195,
          -0.7151769915089905,
          1.1849798400524436,
          0.9529954783376008,
          0.6544910885856194,
          -1.6161526420575645,
          1.9072794262689432,
          3.0406874566256987,
          0.6061591456673303,
          -0.6098965800294837,
          -2.074035572543393,
          0.03102798795442717,
          0.5406292068388141,
          1.8493643584022024,
          -0.6209714248588406,
          -1.5884436361585723,
          1.5528037985403798,
          0.26757824070597097,
          0.23345832773005687,
          1.2346638961075167,
          0.23099074808822995,
          -0.7435654768471829,
          0.10380735489566204,
          -2.08621698768923,
          1.5054674009462463,
          -1.468071138984088,
          0.08398302185716869,
          1.7190311085458787,
          -0.2630398843026646,
          2.5800164897246107,
          1.8553295545044057,
          -1.8789378772257257,
          1.9740335406675589,
          2.4508784622763122,
          -1.093591380805659,
          -0.30095102491777037,
          -2.1534650821612225,
          -0.7357993201221844,
          0.6641545185191239,
          -1.5608542861296777,
          0.6108022855808136,
          2.2624079331568603,
          -0.8242083057571631,
          2.513227926975635,
          -0.8098497958681944,
          0.10973705982566462,
          0.9243944054603666,
          0.1653816302691595,
          -0.6225586812049225,
          -0.16994194375171712,
          1.9025997846965212,
          -0.3754789427370996,
          -2.252948661404202,
          -0.20390222789891116,
          0.8543961447428488,
          -0.15893029969359915,
          -1.525665525331443,
          -0.17188865443012669,
          1.1237993102020674,
          0.19499552925906447,
          -0.19744612824792032,
          0.030319967065708355,
          1.6736213702500329,
          -2.3892175889726683,
          1.2473268866675704,
          1.6370869393550131,
          -2.177489349954408,
          0.6295957316103593,
          1.5234856807482797,
          0.9795863485540325,
          0.01911256539919459,
          -0.8809833478106724,
          -0.7380779807656787,
          0.1799349245907562,
          -0.520413399439332,
          0.00825268231011629,
          2.454011752466968,
          -2.3396911431426894,
          -0.967160361628107,
          0.00035659211723008575,
          0.9957932153282313,
          -0.4259830112285544,
          -1.6470377917351822,
          -2.1538269400528174,
          -0.6670104489857522,
          -1.4489704846535274,
          -1.128082837370712,
          1.1646102569394166,
          1.53605178820474,
          0.0432917766109453,
          0.279906306044374,
          -0.1638416614154662,
          -1.021149568391454,
          0.4743064880367961,
          0.724713375976726,
          0.2745943271485755,
          1.3061062718340546,
          -0.8504909996767509,
          0.6270464849990436,
          0.09002176500741912,
          0.6969223716214727,
          1.0046197357167888,
          0.6355494405085872,
          0.5928111361480571,
          2.1943765850337815,
          -0.16015502973944076,
          0.19151726262549765,
          -0.5212986188242541,
          0.1716570994559416,
          2.1809448878863367,
          0.06782512480403391,
          -0.8737835557320534,
          -0.15138488205783693,
          -0.7993267678872136,
          1.1896036165874206,
          1.6949674120494116,
          -0.11766974078723275,
          -1.1743317689508954,
          1.2443437737256775,
          -0.5489150060322808,
          -0.8688587669086361,
          -0.9169478553629623,
          0.12923059876352916,
          0.7933525670824214,
          1.512443008616974,
          1.3351142504471658,
          -0.5179820477362451,
          -0.7765595577893597,
          0.20789308191743971,
          -2.6526591904085692,
          -2.7138400520541612,
          0.9444115928149366,
          -1.002883102829334,
          1.7169931959801021,
          -0.6009688182453528,
          0.39311913097446666,
          -1.6388122634579756,
          0.6761041161215303,
          -0.026257251200522892,
          0.38867327206593083,
          1.4560241062865202,
          1.2842559419641257,
          -1.5105300918850135,
          0.4623143619024499,
          -0.7620934562718047,
          0.4078729016430318,
          0.6380703005985421,
          0.9550130639619214,
          0.13185901812327164,
          1.0056917159099226,
          0.12794833173173967,
          -3.223980301287381,
          0.9138140611941847,
          -1.6104644505784298,
          1.0266474661102176,
          0.7727304068688142,
          -0.37137034374948097,
          -0.12723278662671164,
          0.20569655862116154,
          -1.9675253991966573,
          -1.2261544046909716,
          0.9576079408620726,
          0.4950492540614762,
          1.6384477638829225,
          -2.203165620799766,
          0.6915397416160426,
          -0.29842149321358497,
          -1.9402267347375852,
          -0.3376082195291579,
          -0.20280443330362244,
          1.4031738485235161,
          -2.5145770186184837,
          -1.1631730098879345,
          -0.881225006972814,
          1.0070832233719433,
          1.3395374329079874,
          -0.10185109429789109,
          2.0794801187296814,
          2.1138120479087315,
          -1.2614484897582205,
          -0.9744471774193909,
          -1.5954019670235944,
          -0.13590010790054008,
          -0.8115789990734259,
          -0.8772259457049421,
          -1.6557925603981773,
          -2.7873626053290987,
          1.4239977723504007,
          -0.24766576747651306,
          -1.2340427291832539,
          -1.0582049264170272,
          -2.4978047282481497,
          -0.29853815010779694,
          0.421627815075636,
          1.7740260902341063,
          0.5365366366205602,
          0.6490114231722599,
          -1.018404970924245,
          -2.1474253316241234,
          -2.3853010997847397,
          1.2086286725745752,
          -1.0252273041084148,
          0.7094926605675267,
          0.09204086274091833,
          1.0027980361776734,
          0.0996556654347966,
          -0.5459578189534289,
          0.7331615011142012,
          -0.33309082614010505,
          1.962829362595513,
          1.1751096505247804,
          1.3582914541302533,
          0.2196679626048259,
          0.4352240258269955,
          1.1587605948940831,
          -2.059338064078832,
          0.1733621096859247,
          -0.6538022520689881,
          -0.5567767690904086,
          -0.5116955027012847,
          -2.1495398608766436,
          0.261029988062172,
          1.430494099038608,
          0.9530029435205627,
          1.201833263991618,
          1.9595107949702797,
          -0.19999575015443352,
          1.483295972544617,
          -3.101838497520928,
          -1.6255879997556573,
          -0.8438408649639443,
          0.4081079454959501,
          -0.6159360360790853,
          -1.0032236822395586,
          1.3640291591299731,
          2.8518253771180158,
          1.060605335168944,
          1.901725996344178,
          -0.6092378760518399,
          3.3991958379154408,
          0.7860916813305042,
          0.18276923664179315,
          -2.0493306941109903,
          0.21966278038544382,
          -1.2563320967726403,
          -0.23194487438334735,
          2.044099063136468,
          -0.4520348035898674,
          1.5138187075954008,
          -1.3305429889264213,
          -1.8259425759054186,
          -0.5558200598620487,
          0.4074415557487662,
          -1.182394330454816,
          -0.3373991968117623,
          1.4227216114216488,
          -0.4321574969969885,
          -0.43054792642422246,
          -2.5784564186380914,
          0.630599364757913,
          0.13471042091622837,
          1.065654016792342,
          -0.9341943439309777,
          -0.003809266426786247,
          2.9258868992942957,
          0.7727520645662401,
          1.4012247277541128,
          -1.4578157056676864,
          0.9195820219540801,
          0.20207728750683746,
          1.9524741361349505,
          0.8011480731407847,
          0.12583122871173721,
          1.6173056917379498,
          -0.4162709808361725,
          0.06908284978562358,
          0.524356200709676,
          -1.724071273422271,
          -0.4049720948052948,
          1.161805388818875,
          -0.8756354931869418,
          0.5229414065778367,
          0.09149879588722609,
          0.874958801768313,
          -0.5288923521093952,
          -1.9840112413560833,
          -0.47624823295236707,
          -0.25339397978852235,
          0.9807754069226786,
          0.12117891938704967,
          -1.1987143098505784,
          -0.38403286326530556,
          -1.6327558299748655,
          -0.385898256123151,
          -1.6340945406618028,
          -0.11677691819309505,
          0.9576353937424943,
          1.4066499105760601,
          -0.9906435691730885,
          0.18461688053839123,
          -0.3393272516467315,
          -1.3180208169591556,
          -2.0364127494211637,
          -1.8358804434288474,
          0.45345224680767104,
          -1.2241438619658018,
          1.9191240259581093,
          -0.49448136978932195,
          -0.5879111697032365,
          0.831359728414093,
          -1.0130031805696098,
          1.0309058100471724,
          0.7794362450601852,
          1.2327022256032307,
          0.05086229533233651,
          0.2838590852830095,
          -0.6947827216260036,
          1.3031308822753576,
          -0.582290389169507,
          -2.114430200535471,
          2.5774673040379006,
          1.4021221795280432,
          -2.2292779776221923,
          0.4596725611685103,
          1.8364247596954926,
          2.764234464122339,
          -2.1489008384315866,
          -1.3809302977061515,
          -1.6257595929690718,
          -1.8411387092365994,
          1.909821877123751,
          1.689237034315856,
          -2.5508630994579886,
          0.49189750168560986,
          1.170404047270198,
          0.24310902316302194,
          -0.9484608680522928,
          2.085362257480078,
          -0.4217839661122916,
          0.15809945186880792,
          -0.4707196220948587,
          -0.507521574334964,
          -1.9578146684628934,
          -2.125289674909297,
          -0.3284286543840542,
          0.5727238113251438,
          -2.589613868030202,
          -1.0250169072734645,
          0.21136471264573437,
          1.237424302174997,
          1.3457085260453117,
          3.0427845829545435,
          -0.495905996841909,
          -0.41066507549678455,
          -1.567837834079671,
          -0.41668451678417295,
          0.14633091540786317,
          0.06592613086331064,
          -0.3050353601874339,
          -0.655217693388574,
          -0.8917027981963646,
          0.2160511417150397,
          1.3948703966199323,
          1.6372942101117813,
          -0.07704806525585885,
          -0.8142530190152472,
          0.6585648744265095,
          0.4470127049357516,
          -2.203692687086554,
          0.07997084789321857,
          1.6165465716734853,
          -0.10816434112506436,
          -0.25891077510533844,
          0.4448340209567294,
          -1.1848232249907371,
          0.06372156798574835,
          -0.37297795806127765,
          -1.0866537214834495,
          0.7513287500069191,
          0.2339315291340951,
          -0.027408175451181332,
          0.2025102495107994,
          -1.8719504383492724,
          1.6365977765800876,
          -1.8974619807301127,
          1.8798752825183034,
          0.11739737042194609,
          1.0986597647904077,
          0.10143732677261764,
          1.1447434789955928,
          0.18759172933718704,
          -1.2388204249536574,
          1.2874459448504663,
          -1.5668623006490614,
          -1.4249692451689708,
          -1.5603286062285753,
          -0.5400859444134375,
          0.7580099467682581,
          -0.8176230702695706,
          1.5266617959812614,
          -0.5092247134052363,
          -2.9456574891636786,
          -1.776203824320962,
          -1.6090111579290851,
          -0.499003925857327,
          0.48469722483768485,
          0.5830787420438053,
          -1.6567190953307644,
          0.6292068238341384,
          -2.0592987997308723,
          -0.29071377192508746,
          0.8579802725261705,
          0.2929304723575264,
          -0.49118371528539023,
          0.071500112457993,
          -0.4556144574138005,
          -2.175908913636552,
          0.7245952592888402,
          0.21752458794803325,
          1.138763024651235,
          -0.6386872938947886,
          -1.2709484751003435,
          -0.1298697301215523,
          0.5687928547234823,
          -1.4164814167159128,
          -1.0066574967868445,
          -0.8598606362174059,
          0.6739502456617912,
          -0.6196854172053672,
          -3.063466274850343,
          0.5425410459926857,
          -0.2745042414270248,
          -0.3478701044620188,
          -0.6507380616413005,
          0.22482852676023632,
          -2.715561563760632,
          1.305781594038202,
          0.6357816056135437,
          -1.2752029955721151,
          1.6337513229315264,
          0.6990355490048973,
          -2.5165449251885597,
          -0.3562311000519015,
          1.0303586596467493,
          -0.10295139220729782,
          1.1229691409008566,
          1.4332341292332234,
          1.8886982640115924,
          0.8760019204265344,
          -0.4398691471974978,
          1.8788083251935517,
          1.4513144045867434,
          -2.3325641215122928,
          -1.2871184376340497,
          0.15662973199390323,
          1.0955557663230782,
          0.49439706899266334,
          2.2919375179882295,
          0.47677294642728,
          -2.3500693084685147,
          -0.6751645359029352,
          0.3326252108694031,
          0.4176206030315053,
          -0.7432925435689193,
          -0.3629853428717754,
          -0.7827082290520118,
          -0.8682576555022372,
          -2.2607363886574694,
          0.6836999159986559,
          0.2924930407231472,
          -0.9826506743590433,
          1.5054684292477865,
          -0.9895106347946621,
          -0.5957298409120788,
          1.6062316982462723,
          -0.15172533391815424,
          -0.1612390094618266,
          -0.35717457500424615,
          2.800997427112071,
          -0.3503454793139747,
          -0.5832704405894267,
          -0.10900043517306214,
          -2.050723702303468,
          0.15144048961051634,
          0.5910477609083741,
          -1.3635850687001332,
          0.2609072116939411,
          -2.4816736553987475,
          -0.7851445104033526,
          0.27275372685312294,
          2.435659515044882,
          -0.0024616168962727286,
          -0.38295280589936403,
          0.7666146513361526,
          -1.7379615558289394,
          -1.8453143436137573,
          -0.39515341307230645,
          -1.998837280549041,
          -0.2187979714635083,
          0.6524448346201682,
          -1.9204590019344994,
          0.9254367027732849,
          -1.2924966667636733,
          -0.03920550617673784,
          0.1294670684841522,
          0.5973077064738106,
          0.14961455044613076,
          -1.320430976457549,
          0.520055049988468,
          0.7684024363676338,
          -1.049396253162211,
          1.4868234831730958,
          -0.9207573149059664,
          -1.7329072836083497
         ],
         "xaxis": "x",
         "y": [
          2.2633936016092258,
          -1.4180513064207143,
          1.2343444508333459,
          0.998276657644436,
          1.5322153519612616,
          0.1863447935400903,
          1.4790609537709931,
          0.1603239188657635,
          1.99997259757961,
          -0.5975160452346708,
          -1.0509124095053617,
          -1.1604261657045336,
          -1.4573061905003715,
          1.8070685770346377,
          -0.6809388299126092,
          -0.2768630997214752,
          1.4636739034608834,
          -0.9318418509284361,
          1.006537602454544,
          -0.28576245353646607,
          1.1865963794414043,
          0.9452561669192122,
          1.1844228427164059,
          0.8616680170950844,
          -0.8623690226448831,
          0.21348584851282373,
          0.36463038139035214,
          0.5611638672802842,
          0.06859323330024233,
          2.079635346123097,
          0.17321761161765145,
          -0.7296033959756845,
          -0.3230318767344617,
          1.6875935308292238,
          -0.11489806921759418,
          -1.010879867109468,
          -0.2749603127683433,
          0.2734984905677423,
          0.2594859568230315,
          -1.26972510128494,
          -0.44745477412255347,
          -0.9314647382948394,
          0.9561547634227902,
          -1.0937276299065866,
          1.8089167166249698,
          0.08099417944355769,
          0.4115457256341104,
          -1.2780555175904422,
          0.6026272205738517,
          -0.6278035530885526,
          -0.5454152184124377,
          -0.34824909398804227,
          -1.053448341014301,
          -0.2682047749029479,
          1.6703660634084125,
          -0.9239888727749844,
          1.5426669922310046,
          -0.21186078462625454,
          -1.314303362149343,
          -1.2466781716543702,
          -0.7688859530085664,
          1.2562731655658645,
          1.8831076961360456,
          -0.905970165736087,
          -0.8781102819153814,
          1.2011268331510383,
          -0.5065655669661522,
          -1.5007478605450826,
          0.2134659935359305,
          -1.0633280200338986,
          -0.3368502968613249,
          0.9563230721214974,
          1.3364647755266283,
          0.6611353116206975,
          0.48091868583472297,
          2.193645387016977,
          -0.0013986008473294786,
          1.45395804193829,
          0.5234086637223306,
          -1.4301580347301868,
          0.9328737971935076,
          1.0272421259874078,
          -1.1947390035903638,
          1.7317538216475385,
          1.4538053501777697,
          -0.5488276766707685,
          -0.8218313972898951,
          1.199284075496964,
          -0.4172158855976463,
          -0.6893467212816594,
          1.5584342714856423,
          1.5184560761236332,
          -0.1753055666578348,
          -1.7380123618760188,
          1.5118969235898954,
          1.8948207979539908,
          1.9588129612204825,
          0.014103453000631327,
          0.14696544830458577,
          0.2944784663635705,
          0.5607201635949711,
          -1.202043772634692,
          -1.173065835483097,
          0.12575979636105356,
          -0.8580429987416706,
          0.6002376247128602,
          0.5589351201832209,
          -0.07805261146390881,
          -0.31509612274681825,
          0.06620926343363992,
          -0.2785770689640283,
          -1.4603904544881867,
          -0.546088794431377,
          -0.9465975749118631,
          0.09363401864575713,
          1.0564550736194218,
          -0.35938869610099317,
          -0.733912601307603,
          -1.2777576784825682,
          0.22095835425926147,
          -1.0537451676005838,
          0.6558343717565165,
          -1.1560837471671777,
          1.985210557709433,
          -0.7829375471568557,
          -0.39611129478490137,
          0.45183923874564474,
          -0.5139768196756459,
          0.007232173489290263,
          -0.45967538505468963,
          -1.093811555512563,
          -0.46593084052765443,
          -0.7372792944649373,
          1.0635008182549526,
          -1.5351465579387944,
          0.3372913071042475,
          -0.6625463171127665,
          2.125934268626019,
          0.12647670484841975,
          0.8657742790095302,
          -0.8082325063079249,
          -0.38875742082157483,
          -0.7534013842088666,
          -1.4397804760191812,
          -1.3093642657486835,
          -0.43690842310600575,
          0.43364518022343446,
          1.257084005824333,
          -0.6070561323522833,
          0.9697349493200275,
          0.7241082146390542,
          0.3925273338929012,
          -1.1113421748708336,
          -0.427369803729687,
          0.2811389789196393,
          -1.793992094586974,
          1.1369929112944746,
          0.7721656385658698,
          0.3936493430664229,
          0.055138946703928965,
          0.19407866784828381,
          -0.49158018135954873,
          0.14442963188395283,
          2.5552839134071945,
          0.054197023830634676,
          -0.10222138085566859,
          -0.1677817691224322,
          -1.7678813813117784,
          -0.9867259297133635,
          -0.34200176369670376,
          -0.17283633788103953,
          -0.9724507615581175,
          -0.028463666139322216,
          -0.09211934739200645,
          -0.86231936275893,
          1.5596578477454885,
          0.7419958324471019,
          1.2986161178505955,
          -0.2946704591246214,
          2.009223948062371,
          -0.5502887555660204,
          -0.395982840527529,
          0.4986847637012962,
          1.313465931908434,
          0.09737712128039852,
          -0.3455073664624217,
          2.7122838477535685,
          2.248187383031315,
          -1.8571568840963826,
          -0.06426297255978175,
          1.5885821689398165,
          -0.0132896149760038,
          0.21671196824888242,
          -0.4635387505621823,
          -1.6347642352888372,
          0.005223005780209088,
          -0.6217176393375671,
          -0.8253025972809841,
          0.19017077334950133,
          0.603107962091649,
          1.3718217076009955,
          -0.8051103764970359,
          -0.839211330238192,
          -1.6662734289008643,
          0.35566414482669373,
          0.48760495291483835,
          0.792100740352798,
          -0.9111505656312624,
          -1.5171472047823613,
          1.5797566650709034,
          -0.02363123712415452,
          0.9377136645507432,
          1.3388154921716773,
          2.154890559841553,
          1.3404393026130912,
          0.44154393344692056,
          -0.27651534086925983,
          -1.2923523194881075,
          -1.1493712107895562,
          2.092363739020539,
          -0.992050803047614,
          -1.3356921680048108,
          -0.5040419096939753,
          -0.19406116564099163,
          -0.33362792354672816,
          -0.7987860789982484,
          -0.6769798276039183,
          1.6252257702947586,
          -1.4439922712269808,
          -1.4346603576581296,
          -0.877437512531103,
          1.4040360254004518,
          0.11745582655402445,
          -1.1173048186315446,
          0.7644523784608804,
          -0.4569055394886163,
          -1.0445965656318774,
          1.9530428120673866,
          0.06775918774709973,
          0.43271934721379623,
          -0.6373690112859635,
          1.386470815539628,
          -1.1538764333099232,
          -0.8036907805679744,
          0.1642420633327237,
          -1.099680115190939,
          1.3265776622884593,
          0.10682490796950186,
          -0.927454597646344,
          -1.6105254255662327,
          0.4085301545572442,
          1.0312450536048112,
          -1.1975684203181094,
          0.13658007988743276,
          -1.1234494255324088,
          -0.7301200172332264,
          0.09374223879155842,
          -0.5075661954997065,
          -1.2369229966669577,
          1.6844131816515413,
          -0.7707533539521895,
          1.5462312429990985,
          0.2733673207198883,
          1.7638880174695057,
          -0.22285280927782086,
          0.19101016927243195,
          0.2444532601778946,
          0.31221018230207465,
          1.083848716121729,
          -1.122327377088244,
          -0.18602298371147638,
          0.2606661735455838,
          0.29000971835025874,
          -0.6813858620240094,
          0.12966979296637354,
          -0.13881981359114384,
          -0.8865658062192745,
          1.1845026973130184,
          -0.0592703868870072,
          -0.5655328561727558,
          -1.2490888680114558,
          1.2733930349965454,
          1.1709444764573058,
          2.0237680060223364,
          0.3147003253011735,
          0.1852821792302965,
          -0.8838570553722951,
          -0.2537546064478792,
          1.1702882698737103,
          1.0494802153122955,
          -0.938680065530195,
          -0.5520910439836132,
          0.9404432272513389,
          1.676744797787692,
          1.05931853592456,
          -0.8118978015247094,
          -1.6668849492124134,
          0.9153066731462193,
          0.7909951641910588,
          -0.1932188399061857,
          1.4916393314010492,
          0.7074728978224567,
          0.21059557249833621,
          1.1773843949019427,
          0.9393163754376123,
          -0.06448369413436314,
          -1.118440119468735,
          -0.18433683946577778,
          -1.1643106747781555,
          -1.6088478331769742,
          0.5602299831834331,
          -0.9545537757606886,
          -0.8619696458053495,
          -1.1134779785297304,
          -0.47050057508065285,
          -0.33447450963624303,
          0.2822338927069566,
          1.1916068363956014,
          -0.29024924286936005,
          -0.7081407944585896,
          -0.6179988720036242,
          -0.236265770856676,
          0.0052834048944762095,
          -0.6302071310089694,
          0.11220325642738985,
          0.5495731183520952,
          1.3343554543007987,
          -0.05819695430284817,
          -0.28654052925747403,
          -0.6470390990156772,
          2.716941007513835,
          -0.43566202508021346,
          -1.1219530155427664,
          -1.0631984413967799,
          -1.2606653531485792,
          0.9693876654525012,
          -1.2859699438432728,
          -1.2029824562181926,
          -0.6050833125475262,
          -0.30765423486936083,
          -1.086260720705684,
          -0.857134958560747,
          -0.9885012534156717,
          -0.033451907968983084,
          0.37448112909353237,
          0.7495784212862051,
          -1.3712422951271603,
          -1.2694616222228934,
          0.046769364632455984,
          -0.22376305966207166,
          -1.3137297547656368,
          -0.5677764767181352,
          0.4044541400677496,
          -0.5201893909557352,
          0.9322893584816414,
          -1.3779164789279408,
          1.2447843657235087,
          -0.8717042133941701,
          -0.7243367698522173,
          -1.3280530274045161,
          1.8843210734972629,
          0.3476680712134041,
          0.21588856315119476,
          -1.5543484200279671,
          -1.0142185433403004,
          0.1788986501559236,
          -0.7147898624708272,
          -1.4010971125225076,
          0.69776268898269,
          0.5678416363214507,
          0.17405457167299493,
          -0.002708877453382153,
          -1.266506750127476,
          2.1483337332198658,
          1.9931437632210212,
          0.335973594090077,
          0.0020814767015886956,
          0.15562963502877464,
          1.85327041042196,
          1.305355400253468,
          0.44669572856030765,
          0.5411027324942401,
          -1.0919825382844044,
          -0.9178596437559211,
          -0.8639227465902526,
          -1.0240280138396696,
          -1.6713434104183726,
          0.6561632525859287,
          -0.7522181058677053,
          -0.7648726658322359,
          -0.43800886734611494,
          -1.9906636646675469,
          0.44552521697293884,
          -0.24905130986307553,
          -0.2556204117443155,
          -0.09129367675114791,
          1.6388298704095114,
          0.9626085399349272,
          0.9713103676016707,
          0.7222064865528495,
          0.41373061905082514,
          -0.6639006216948042,
          -0.6543449668998657,
          -0.8522559217972565,
          0.8049547657985858,
          -1.4773591264725003,
          0.7586562404809011,
          -0.8300760994351069,
          -0.8764565319275941,
          -0.7056055298868381,
          -1.797855457048799,
          0.17030891943844845,
          0.7304816791251927,
          0.5448082439608489,
          0.02845994443838041,
          0.1432905397948388,
          -0.059938959566849345,
          -1.1705552612511987,
          -0.2974872634091934,
          -0.17583376406394635,
          -1.7193402804864686,
          -0.4005162597519398,
          1.018839351276105,
          -0.0451883338776907,
          -0.9764990460652196,
          -1.5825890461846623,
          -0.5397222378882627,
          0.9383171496436382,
          -1.7725862816751643,
          1.5360209108619811,
          2.712209999626065,
          -0.39017974584833903,
          0.24387046075573235,
          -0.1280289914931209,
          -0.9826909153837919,
          -1.0375287651153904,
          -1.3485053844372625,
          0.2063380969441429,
          2.138409374642901,
          -0.994598567984948,
          0.464769168377587,
          -0.42258391713949356,
          -0.5216017609271729,
          0.536448037184743,
          -0.40183466669293344,
          0.609365697377684,
          -0.06650449982800724,
          0.17133492031068806,
          1.5805185084896078,
          1.9159625197057302,
          -0.3067033032075914,
          -0.6014242833403569,
          0.045968457141971085,
          0.09322845446320352,
          -0.2524001172511185,
          -0.5318293760551809,
          0.2759479028331564,
          0.16248793991558877,
          -0.8795689797164876,
          -0.13241456833705348,
          0.2810753407828093,
          0.17490527273387985,
          0.05475082855386715,
          0.2884180998419754,
          -0.014986991578381785,
          2.0569055245291237,
          -0.5789100757571688,
          -0.1527324230140197,
          -0.913012070193749,
          0.14834318114103262,
          -1.4364549381543497,
          -1.3865691768187758,
          -0.7220822282280419,
          0.20324611035759352,
          -0.15834719719390505,
          -0.8611431495146061,
          -1.1974576346781867,
          -0.9611715113141835,
          0.40611187871845533,
          0.8273037168649768,
          -1.2285011501604852,
          -0.973802686488369,
          1.7303152307942888,
          -0.48877212027252614,
          0.8185391322438484,
          1.0876204205548443,
          1.4696813419505381,
          2.028320943380112,
          0.0890558410396024,
          -0.7763777507421856,
          -0.8810764592220217,
          0.8033933721991979,
          -0.7535517267418514,
          0.26386759185666364,
          0.4764563006523188,
          -1.7565180296044054,
          -0.4392717403703808,
          0.4860688482897134,
          -0.25635929173314165,
          -0.6260039517437809,
          -0.7544084763648975,
          0.7435693615943216,
          1.192358931824285,
          0.28945130122472285,
          -1.2395039531443313,
          -0.7818350875159764,
          0.2059259982263631,
          0.12052551657599707,
          -0.7113780695939828,
          1.011613862087585,
          -0.9729671500239946,
          -0.1763864817142347,
          -0.8635537378237272,
          -1.8710698417785847,
          1.5187367430538397,
          0.22466770449840598,
          0.5629399182996193,
          -1.2334473798413261,
          0.7913269787319845,
          0.1472308737211419,
          0.9253882899465388,
          -1.1249650882996365,
          1.5235955847257334,
          -1.2767864387173038,
          -0.9622200321279607,
          -0.317329860827157,
          -0.3338077075060163,
          0.7618083397447746,
          -0.3518012759915771,
          0.5742534966992988,
          -0.24746297707723355,
          -0.6191686272287213,
          0.6088879677185782,
          -0.9651931242696957,
          -1.0109187820082002,
          -0.10745243472914892,
          2.654381260814165,
          0.3267778820260984,
          0.7584924674259151,
          0.961101031865708,
          -1.3115679760102559,
          1.8588947984255697,
          -0.24003822599515107,
          0.022776499842435637,
          1.912443037450574,
          0.7095682293710918,
          0.25072150582573605,
          -0.2580866578829803,
          -1.2580845895053454,
          0.16512536182463347,
          -1.3539976850260496,
          0.9793382119853457,
          0.04558268307956707,
          -0.75251604351193,
          2.2390215767922177,
          -1.473342581202462,
          -0.6454005821594896,
          -0.4616213327364036,
          -0.7417629982670785,
          -0.3232993306615775,
          1.2224665252534428,
          -1.2151856471826339,
          -0.5742582552168108,
          0.4019467435031766,
          0.33383730070516227,
          -1.3562785166177864,
          0.16742284949697825,
          -0.006617632406895122,
          0.6126940549598374,
          -0.2650574295475238,
          -1.2842144444048886,
          0.4307265481388232,
          -0.8255213828442253,
          -1.5374042166279192,
          -0.7935656667188563,
          -1.126119514283518,
          -0.7147556471123343,
          -0.13449043688234874,
          -0.7912962635831038,
          -0.8726795052692502,
          -0.4914871044416967,
          1.2735514798077718,
          -0.8946076855520991,
          -0.14044430079843548,
          1.4336827036044268,
          -1.7752651601144116,
          0.25652763823088076,
          -1.6312000572014431,
          1.0154870473576065,
          1.9146517623970387,
          1.6286414554244173,
          0.6694390402199325,
          0.14371798011038964,
          -1.7660850736461025,
          0.4708833419306767,
          -0.21645285360326239,
          -1.3635639486397277,
          0.23237272502748169,
          -0.28752253468372047,
          -0.168499191711398,
          0.9972060132354109,
          -0.4593257135696293,
          -0.03991012127262799,
          -0.6534612896269667,
          -1.3176577311058177,
          -1.4452229384059596,
          2.6350180538153527,
          1.2525656772081473,
          -0.1093052425501231,
          0.8894326299829233,
          -1.5308818638833008,
          1.1262817625069237,
          -0.5008191808331642,
          -1.4206412728361675,
          -1.4701131750164207,
          1.247010323589819,
          -0.709429211489685,
          0.4012846815787584,
          -1.5954388177587713,
          1.1177974047016905,
          -0.7301891337474313,
          -0.24043076049844123,
          0.35837642179643175,
          -1.4405717606998467,
          2.1683600528383837,
          0.09494305712130016,
          0.6884131836265643,
          -0.5280449943606067,
          0.19057758262999577,
          2.20082498362729,
          -0.6178757916240553,
          0.8200880922965504,
          -1.332290795210797,
          -1.9028114384317836,
          -1.0923828163621023,
          1.0556181876883852,
          -0.7139848766294783,
          -1.4925308293696617,
          -0.01436048375405706,
          -0.883985261138346,
          -0.8754908382722819,
          0.32775337136326316,
          0.6223706406006715,
          -0.13844356077658468,
          -0.220192371491287,
          -0.6891040784566533,
          -0.1664914661698973,
          -0.9138078250013303,
          0.26488837479416416,
          0.4494273839703328,
          1.3346229821316942,
          0.291658449935488,
          0.9144755558313153,
          0.7815558383873266,
          0.08051912104524157,
          -1.3761175133511963,
          0.5571880870922742,
          0.3639994682810159,
          -0.6186484127462287,
          0.7237634754417058,
          -1.3280555338047164,
          -1.3639548256305327,
          1.2710287233895559,
          0.09337949515282178,
          1.2792602497365264,
          -0.6852480554676788,
          0.008524729845147119,
          -0.7861188769751161,
          0.8822312306562676,
          1.0708376552944026,
          -0.7267374300623797,
          -0.2620045912788967,
          0.7721176492215976,
          -1.094197559680253,
          0.6248974188982458,
          -0.8581618117989677,
          -0.03791470727017868,
          -1.1616069854039697,
          2.0892199396701994,
          -0.9360313521451705,
          1.6939268966625243,
          0.3083960984312191,
          -0.12941473220635472,
          1.137253535654351,
          -0.20891677401225614,
          0.023940489277524395,
          -0.7790237346723363,
          -0.439455852949103,
          0.16121430311506835,
          -0.23370820556852137,
          -1.093579385631459,
          -0.9960556647773762,
          -0.5241775598812933,
          1.0019946603879135,
          -0.6642006392914473,
          1.2955637625970453,
          -0.573091005120289,
          0.308605188997709,
          -1.1811829144755093,
          0.5352724302970759,
          -0.5713255905088092,
          1.0409964163468706,
          1.0085633491924864,
          0.5982915812600605,
          -0.21795855888953963,
          0.19216727768788133,
          -1.1191134642317775,
          -0.9693990337897567,
          -1.0388489678544641,
          0.3202568746458706,
          -0.3277578685093775,
          0.10633410255513132,
          1.0035309621856094,
          -1.0445506549186385,
          -0.6675321049942884,
          2.135911886261084,
          0.5364572587674601,
          -0.24204929264872055,
          -0.2941909809182092,
          -0.21635279899463453,
          -0.0061439919653809094,
          -1.2483781908475993,
          -1.1918894838154752,
          2.1480236088015356,
          -1.6171315899066014,
          0.47858431979965005,
          1.0352489242995977,
          -1.041048319198558,
          1.8700378930773016,
          0.11429947466638023,
          -0.016520407233655353,
          -1.6346045223403274,
          0.8036042093707509,
          -0.651356751517094,
          0.41989867333897524,
          -0.5195560516048333,
          -1.1590698637762826,
          0.16091413556831705,
          1.1121185985834052,
          -0.8637389435816447,
          -0.2183793622755495,
          -1.3369194455525755,
          0.6448193276830616,
          -1.4580045312134304,
          -0.2875465597429045,
          -0.6471429942085865,
          -1.277936653510077,
          0.25126059316146654,
          -0.8200787018436408,
          -0.05892141380755188,
          1.1241898481223958,
          -1.3828519205604404,
          -1.3706159841784022,
          -0.9648077623671241,
          1.58916442747075,
          -0.2766334712271132,
          2.604227022153519,
          0.4113186159002742,
          -0.37428898762633617,
          0.0063543136173782174,
          1.9234775076819264,
          -1.1649223325527711,
          -1.1339838727054212,
          -0.25751345073033366,
          -0.7777326598504803,
          0.5008964982969457,
          -0.3102302017624786,
          -0.2442201655852254,
          -0.5731169503196973,
          2.046910445304346,
          -0.8902235688074209,
          -0.94400559508612,
          0.2158250784997136,
          1.3918230038735762,
          2.190638390303692,
          -1.0912295508287972,
          0.2787410233469752,
          -0.9798435174291753,
          0.41455435024251547,
          2.308269936207786,
          -0.9976030605494883,
          1.854342963915658,
          -0.3271774105896326,
          -1.3712018098823546,
          1.9847232439366171,
          0.08095978083433705,
          0.5432499901635582,
          0.32373650621479966,
          1.3166165625385498,
          -0.7241335405760526,
          0.38239326783255695,
          0.7039608493020983,
          -0.754830738192465,
          1.3530927507895876,
          -0.19132841161006564,
          -1.4005047573274068,
          1.4659160365092847,
          -1.4788841934655672,
          1.4061673914981128,
          0.10471673947318386,
          1.4848407488740607,
          1.1236811783398235,
          -1.10325218063158,
          0.04027974709273608,
          -1.014485223752956,
          -1.0660727806739891,
          -0.9517925491140153,
          2.0942199240129358,
          1.6817019855652124,
          -0.9041216958185022,
          -0.9286047179311814,
          -0.7247940646853395,
          -1.0623505492996848,
          1.5025175217855233,
          0.9941774571720644,
          1.6090439711982094,
          2.0187305841552154,
          -1.1228388022810012,
          0.9259732742252323,
          -0.9436192602352519,
          -0.8109139671622118,
          -1.1036140527051732,
          0.5940917747036948,
          1.0191325743272597,
          0.14644056084225154,
          -0.46075526327205973,
          -0.04452101831179833,
          0.249654698148205,
          1.158593409159605,
          0.4109075495710831,
          0.8427639789222318,
          -1.3612523365259006,
          -0.4276804821064562,
          0.7628291313664576,
          -1.008118305497149,
          1.1008127541180044,
          -1.6680317340799116,
          -1.3308438952903618,
          2.0580080725477896,
          0.9999003201494067,
          -0.4939323216276836,
          -0.6287946923217212,
          -1.3152092949161969,
          1.2265324139402063,
          1.1170539016147272,
          0.1411947161425059,
          2.4122995713855246,
          -0.7234984529222217,
          1.8288198123018662,
          1.6307914754526907,
          -0.10784481134404318,
          0.8185495781404252,
          0.06579944240214564,
          -0.2462503322881094,
          1.0401117285731292,
          -0.16081796161025574,
          0.48781016252303755,
          -0.5956390530569848,
          -0.46232391719503435,
          -0.801605211861447,
          -0.6935222558303608,
          -0.6502175811806423,
          0.08433843970310845,
          -0.16074103298641385,
          -0.9863249717457452,
          -1.7547870906575391,
          -0.7616711001198675,
          0.7672094848070767,
          0.35143885526309315,
          -1.2540866831607314,
          0.6142122462339445,
          1.0264256825243272,
          -0.9600116559715359,
          -1.2400809631222982,
          -0.4571530053293671,
          0.5199280845868502,
          0.17459451053512515,
          -0.6464976326333355,
          -0.7667205450022954,
          0.26313095501422146,
          0.472217090863155,
          1.265989563356901,
          0.15225690681434623,
          2.083672790046351,
          0.8189134852589897,
          1.4000696901985654,
          0.0023710285058023434,
          -1.1750920706863988,
          0.05908272052538973,
          0.6327120065201005,
          0.7612399689467461,
          0.9960664597501223,
          0.3923147242660736,
          0.046180440958126144,
          -0.5942430525678504,
          -0.2184329118600758,
          -0.6423973491733906,
          0.08834829664765888,
          -0.09096416187141576,
          0.7620163184442963,
          0.80300368368041,
          0.8925156704265288,
          0.8070054283631785,
          0.5040253530814185,
          0.11453036238591753,
          -1.808410947159648,
          -1.1189480664893912,
          -0.7643223117049581,
          1.0624290379029881,
          -0.01983833850553177,
          0.020238935978577566,
          -0.9694427679436806,
          -1.029376544837585,
          -0.6188224148245887,
          -0.293786112748826,
          -0.060943380104657614,
          -0.14044781780926294,
          2.5626849240934737,
          -0.11461855500604931,
          0.4752474035640935,
          -0.6676143400795188,
          0.3857023152643827,
          -1.4517340951251025,
          -0.40178392481697256,
          1.6892311564179519,
          0.9160707955557703,
          -1.6783023520524594,
          0.5397901944312524,
          1.7230486040440187,
          0.7562954998408106,
          -1.2031775347605003,
          -1.4319935190808721,
          -0.4310630559439075,
          0.5851304078411571,
          -1.3139010252667962,
          -0.4666465577896451,
          -0.7092834797519946,
          -0.35291532229600714,
          0.7230072965048634,
          1.0945420907047951,
          1.0022699196849605,
          -0.3060525906666667,
          -0.4140877096089423,
          0.7586196564526125,
          0.9969221444579837,
          -0.3532277997393711,
          -0.3971564739019353,
          0.41935936423914993,
          0.7423604986946248,
          -0.280438685723407,
          0.5854473764203932,
          -1.2098756693540695,
          -0.6064118983710682,
          -0.7833145228480193,
          -0.5200272719510826,
          1.639074682530508,
          1.2282978779162401,
          0.26060017869519847,
          0.9586485628186058,
          -0.40573404402971647,
          -0.3696437046549199,
          1.0700464353980836,
          -0.47287077482957124,
          0.08263194827082586,
          -1.5330913968530386,
          -0.9535857966629309,
          -1.3165250854526012,
          1.5949529003989213,
          -0.4722416591406296,
          0.6271875893985175,
          -1.4754694092627274,
          0.8778679173139088,
          -0.6113049968888719,
          0.22498271560984723,
          -0.1114827594833318,
          1.6412061862646623,
          2.06783800328715,
          0.7092428033900556,
          1.068635716841317,
          -1.0680756741017798,
          1.3098583604589111,
          -0.08985254232844306,
          -0.6311196782996786,
          -0.8115950867308661,
          -0.4464361521446012,
          -1.0557473129307577,
          -0.055358944393022046,
          2.078171353066736,
          -0.4435643049183033,
          1.101734635894987,
          0.35235255559364065,
          -0.0242655443542526,
          -1.315563870581377,
          -0.407578973433865,
          1.314426370863371,
          -0.3067435313815975,
          0.5586536775693053,
          0.2947259578518241,
          -1.3809965318947006,
          -0.7585210285876525
         ],
         "yaxis": "y"
        }
       ],
       "layout": {
        "coloraxis": {
         "colorbar": {
          "title": {
           "text": "color"
          }
         },
         "colorscale": [
          [
           0,
           "#0d0887"
          ],
          [
           0.1111111111111111,
           "#46039f"
          ],
          [
           0.2222222222222222,
           "#7201a8"
          ],
          [
           0.3333333333333333,
           "#9c179e"
          ],
          [
           0.4444444444444444,
           "#bd3786"
          ],
          [
           0.5555555555555556,
           "#d8576b"
          ],
          [
           0.6666666666666666,
           "#ed7953"
          ],
          [
           0.7777777777777778,
           "#fb9f3a"
          ],
          [
           0.8888888888888888,
           "#fdca26"
          ],
          [
           1,
           "#f0f921"
          ]
         ]
        },
        "legend": {
         "tracegroupgap": 0
        },
        "template": {
         "data": {
          "bar": [
           {
            "error_x": {
             "color": "#2a3f5f"
            },
            "error_y": {
             "color": "#2a3f5f"
            },
            "marker": {
             "line": {
              "color": "#E5ECF6",
              "width": 0.5
             },
             "pattern": {
              "fillmode": "overlay",
              "size": 10,
              "solidity": 0.2
             }
            },
            "type": "bar"
           }
          ],
          "barpolar": [
           {
            "marker": {
             "line": {
              "color": "#E5ECF6",
              "width": 0.5
             },
             "pattern": {
              "fillmode": "overlay",
              "size": 10,
              "solidity": 0.2
             }
            },
            "type": "barpolar"
           }
          ],
          "carpet": [
           {
            "aaxis": {
             "endlinecolor": "#2a3f5f",
             "gridcolor": "white",
             "linecolor": "white",
             "minorgridcolor": "white",
             "startlinecolor": "#2a3f5f"
            },
            "baxis": {
             "endlinecolor": "#2a3f5f",
             "gridcolor": "white",
             "linecolor": "white",
             "minorgridcolor": "white",
             "startlinecolor": "#2a3f5f"
            },
            "type": "carpet"
           }
          ],
          "choropleth": [
           {
            "colorbar": {
             "outlinewidth": 0,
             "ticks": ""
            },
            "type": "choropleth"
           }
          ],
          "contour": [
           {
            "colorbar": {
             "outlinewidth": 0,
             "ticks": ""
            },
            "colorscale": [
             [
              0,
              "#0d0887"
             ],
             [
              0.1111111111111111,
              "#46039f"
             ],
             [
              0.2222222222222222,
              "#7201a8"
             ],
             [
              0.3333333333333333,
              "#9c179e"
             ],
             [
              0.4444444444444444,
              "#bd3786"
             ],
             [
              0.5555555555555556,
              "#d8576b"
             ],
             [
              0.6666666666666666,
              "#ed7953"
             ],
             [
              0.7777777777777778,
              "#fb9f3a"
             ],
             [
              0.8888888888888888,
              "#fdca26"
             ],
             [
              1,
              "#f0f921"
             ]
            ],
            "type": "contour"
           }
          ],
          "contourcarpet": [
           {
            "colorbar": {
             "outlinewidth": 0,
             "ticks": ""
            },
            "type": "contourcarpet"
           }
          ],
          "heatmap": [
           {
            "colorbar": {
             "outlinewidth": 0,
             "ticks": ""
            },
            "colorscale": [
             [
              0,
              "#0d0887"
             ],
             [
              0.1111111111111111,
              "#46039f"
             ],
             [
              0.2222222222222222,
              "#7201a8"
             ],
             [
              0.3333333333333333,
              "#9c179e"
             ],
             [
              0.4444444444444444,
              "#bd3786"
             ],
             [
              0.5555555555555556,
              "#d8576b"
             ],
             [
              0.6666666666666666,
              "#ed7953"
             ],
             [
              0.7777777777777778,
              "#fb9f3a"
             ],
             [
              0.8888888888888888,
              "#fdca26"
             ],
             [
              1,
              "#f0f921"
             ]
            ],
            "type": "heatmap"
           }
          ],
          "heatmapgl": [
           {
            "colorbar": {
             "outlinewidth": 0,
             "ticks": ""
            },
            "colorscale": [
             [
              0,
              "#0d0887"
             ],
             [
              0.1111111111111111,
              "#46039f"
             ],
             [
              0.2222222222222222,
              "#7201a8"
             ],
             [
              0.3333333333333333,
              "#9c179e"
             ],
             [
              0.4444444444444444,
              "#bd3786"
             ],
             [
              0.5555555555555556,
              "#d8576b"
             ],
             [
              0.6666666666666666,
              "#ed7953"
             ],
             [
              0.7777777777777778,
              "#fb9f3a"
             ],
             [
              0.8888888888888888,
              "#fdca26"
             ],
             [
              1,
              "#f0f921"
             ]
            ],
            "type": "heatmapgl"
           }
          ],
          "histogram": [
           {
            "marker": {
             "pattern": {
              "fillmode": "overlay",
              "size": 10,
              "solidity": 0.2
             }
            },
            "type": "histogram"
           }
          ],
          "histogram2d": [
           {
            "colorbar": {
             "outlinewidth": 0,
             "ticks": ""
            },
            "colorscale": [
             [
              0,
              "#0d0887"
             ],
             [
              0.1111111111111111,
              "#46039f"
             ],
             [
              0.2222222222222222,
              "#7201a8"
             ],
             [
              0.3333333333333333,
              "#9c179e"
             ],
             [
              0.4444444444444444,
              "#bd3786"
             ],
             [
              0.5555555555555556,
              "#d8576b"
             ],
             [
              0.6666666666666666,
              "#ed7953"
             ],
             [
              0.7777777777777778,
              "#fb9f3a"
             ],
             [
              0.8888888888888888,
              "#fdca26"
             ],
             [
              1,
              "#f0f921"
             ]
            ],
            "type": "histogram2d"
           }
          ],
          "histogram2dcontour": [
           {
            "colorbar": {
             "outlinewidth": 0,
             "ticks": ""
            },
            "colorscale": [
             [
              0,
              "#0d0887"
             ],
             [
              0.1111111111111111,
              "#46039f"
             ],
             [
              0.2222222222222222,
              "#7201a8"
             ],
             [
              0.3333333333333333,
              "#9c179e"
             ],
             [
              0.4444444444444444,
              "#bd3786"
             ],
             [
              0.5555555555555556,
              "#d8576b"
             ],
             [
              0.6666666666666666,
              "#ed7953"
             ],
             [
              0.7777777777777778,
              "#fb9f3a"
             ],
             [
              0.8888888888888888,
              "#fdca26"
             ],
             [
              1,
              "#f0f921"
             ]
            ],
            "type": "histogram2dcontour"
           }
          ],
          "mesh3d": [
           {
            "colorbar": {
             "outlinewidth": 0,
             "ticks": ""
            },
            "type": "mesh3d"
           }
          ],
          "parcoords": [
           {
            "line": {
             "colorbar": {
              "outlinewidth": 0,
              "ticks": ""
             }
            },
            "type": "parcoords"
           }
          ],
          "pie": [
           {
            "automargin": true,
            "type": "pie"
           }
          ],
          "scatter": [
           {
            "fillpattern": {
             "fillmode": "overlay",
             "size": 10,
             "solidity": 0.2
            },
            "type": "scatter"
           }
          ],
          "scatter3d": [
           {
            "line": {
             "colorbar": {
              "outlinewidth": 0,
              "ticks": ""
             }
            },
            "marker": {
             "colorbar": {
              "outlinewidth": 0,
              "ticks": ""
             }
            },
            "type": "scatter3d"
           }
          ],
          "scattercarpet": [
           {
            "marker": {
             "colorbar": {
              "outlinewidth": 0,
              "ticks": ""
             }
            },
            "type": "scattercarpet"
           }
          ],
          "scattergeo": [
           {
            "marker": {
             "colorbar": {
              "outlinewidth": 0,
              "ticks": ""
             }
            },
            "type": "scattergeo"
           }
          ],
          "scattergl": [
           {
            "marker": {
             "colorbar": {
              "outlinewidth": 0,
              "ticks": ""
             }
            },
            "type": "scattergl"
           }
          ],
          "scattermapbox": [
           {
            "marker": {
             "colorbar": {
              "outlinewidth": 0,
              "ticks": ""
             }
            },
            "type": "scattermapbox"
           }
          ],
          "scatterpolar": [
           {
            "marker": {
             "colorbar": {
              "outlinewidth": 0,
              "ticks": ""
             }
            },
            "type": "scatterpolar"
           }
          ],
          "scatterpolargl": [
           {
            "marker": {
             "colorbar": {
              "outlinewidth": 0,
              "ticks": ""
             }
            },
            "type": "scatterpolargl"
           }
          ],
          "scatterternary": [
           {
            "marker": {
             "colorbar": {
              "outlinewidth": 0,
              "ticks": ""
             }
            },
            "type": "scatterternary"
           }
          ],
          "surface": [
           {
            "colorbar": {
             "outlinewidth": 0,
             "ticks": ""
            },
            "colorscale": [
             [
              0,
              "#0d0887"
             ],
             [
              0.1111111111111111,
              "#46039f"
             ],
             [
              0.2222222222222222,
              "#7201a8"
             ],
             [
              0.3333333333333333,
              "#9c179e"
             ],
             [
              0.4444444444444444,
              "#bd3786"
             ],
             [
              0.5555555555555556,
              "#d8576b"
             ],
             [
              0.6666666666666666,
              "#ed7953"
             ],
             [
              0.7777777777777778,
              "#fb9f3a"
             ],
             [
              0.8888888888888888,
              "#fdca26"
             ],
             [
              1,
              "#f0f921"
             ]
            ],
            "type": "surface"
           }
          ],
          "table": [
           {
            "cells": {
             "fill": {
              "color": "#EBF0F8"
             },
             "line": {
              "color": "white"
             }
            },
            "header": {
             "fill": {
              "color": "#C8D4E3"
             },
             "line": {
              "color": "white"
             }
            },
            "type": "table"
           }
          ]
         },
         "layout": {
          "annotationdefaults": {
           "arrowcolor": "#2a3f5f",
           "arrowhead": 0,
           "arrowwidth": 1
          },
          "autotypenumbers": "strict",
          "coloraxis": {
           "colorbar": {
            "outlinewidth": 0,
            "ticks": ""
           }
          },
          "colorscale": {
           "diverging": [
            [
             0,
             "#8e0152"
            ],
            [
             0.1,
             "#c51b7d"
            ],
            [
             0.2,
             "#de77ae"
            ],
            [
             0.3,
             "#f1b6da"
            ],
            [
             0.4,
             "#fde0ef"
            ],
            [
             0.5,
             "#f7f7f7"
            ],
            [
             0.6,
             "#e6f5d0"
            ],
            [
             0.7,
             "#b8e186"
            ],
            [
             0.8,
             "#7fbc41"
            ],
            [
             0.9,
             "#4d9221"
            ],
            [
             1,
             "#276419"
            ]
           ],
           "sequential": [
            [
             0,
             "#0d0887"
            ],
            [
             0.1111111111111111,
             "#46039f"
            ],
            [
             0.2222222222222222,
             "#7201a8"
            ],
            [
             0.3333333333333333,
             "#9c179e"
            ],
            [
             0.4444444444444444,
             "#bd3786"
            ],
            [
             0.5555555555555556,
             "#d8576b"
            ],
            [
             0.6666666666666666,
             "#ed7953"
            ],
            [
             0.7777777777777778,
             "#fb9f3a"
            ],
            [
             0.8888888888888888,
             "#fdca26"
            ],
            [
             1,
             "#f0f921"
            ]
           ],
           "sequentialminus": [
            [
             0,
             "#0d0887"
            ],
            [
             0.1111111111111111,
             "#46039f"
            ],
            [
             0.2222222222222222,
             "#7201a8"
            ],
            [
             0.3333333333333333,
             "#9c179e"
            ],
            [
             0.4444444444444444,
             "#bd3786"
            ],
            [
             0.5555555555555556,
             "#d8576b"
            ],
            [
             0.6666666666666666,
             "#ed7953"
            ],
            [
             0.7777777777777778,
             "#fb9f3a"
            ],
            [
             0.8888888888888888,
             "#fdca26"
            ],
            [
             1,
             "#f0f921"
            ]
           ]
          },
          "colorway": [
           "#636efa",
           "#EF553B",
           "#00cc96",
           "#ab63fa",
           "#FFA15A",
           "#19d3f3",
           "#FF6692",
           "#B6E880",
           "#FF97FF",
           "#FECB52"
          ],
          "font": {
           "color": "#2a3f5f"
          },
          "geo": {
           "bgcolor": "white",
           "lakecolor": "white",
           "landcolor": "#E5ECF6",
           "showlakes": true,
           "showland": true,
           "subunitcolor": "white"
          },
          "hoverlabel": {
           "align": "left"
          },
          "hovermode": "closest",
          "mapbox": {
           "style": "light"
          },
          "paper_bgcolor": "white",
          "plot_bgcolor": "#E5ECF6",
          "polar": {
           "angularaxis": {
            "gridcolor": "white",
            "linecolor": "white",
            "ticks": ""
           },
           "bgcolor": "#E5ECF6",
           "radialaxis": {
            "gridcolor": "white",
            "linecolor": "white",
            "ticks": ""
           }
          },
          "scene": {
           "xaxis": {
            "backgroundcolor": "#E5ECF6",
            "gridcolor": "white",
            "gridwidth": 2,
            "linecolor": "white",
            "showbackground": true,
            "ticks": "",
            "zerolinecolor": "white"
           },
           "yaxis": {
            "backgroundcolor": "#E5ECF6",
            "gridcolor": "white",
            "gridwidth": 2,
            "linecolor": "white",
            "showbackground": true,
            "ticks": "",
            "zerolinecolor": "white"
           },
           "zaxis": {
            "backgroundcolor": "#E5ECF6",
            "gridcolor": "white",
            "gridwidth": 2,
            "linecolor": "white",
            "showbackground": true,
            "ticks": "",
            "zerolinecolor": "white"
           }
          },
          "shapedefaults": {
           "line": {
            "color": "#2a3f5f"
           }
          },
          "ternary": {
           "aaxis": {
            "gridcolor": "white",
            "linecolor": "white",
            "ticks": ""
           },
           "baxis": {
            "gridcolor": "white",
            "linecolor": "white",
            "ticks": ""
           },
           "bgcolor": "#E5ECF6",
           "caxis": {
            "gridcolor": "white",
            "linecolor": "white",
            "ticks": ""
           }
          },
          "title": {
           "x": 0.05
          },
          "xaxis": {
           "automargin": true,
           "gridcolor": "white",
           "linecolor": "white",
           "ticks": "",
           "title": {
            "standoff": 15
           },
           "zerolinecolor": "white",
           "zerolinewidth": 2
          },
          "yaxis": {
           "automargin": true,
           "gridcolor": "white",
           "linecolor": "white",
           "ticks": "",
           "title": {
            "standoff": 15
           },
           "zerolinecolor": "white",
           "zerolinewidth": 2
          }
         }
        },
        "title": {
         "text": "PCA Representation of Clusters"
        },
        "xaxis": {
         "anchor": "y",
         "domain": [
          0,
          1
         ],
         "title": {
          "text": "PC1"
         }
        },
        "yaxis": {
         "anchor": "x",
         "domain": [
          0,
          1
         ],
         "title": {
          "text": "PC2"
         }
        }
       }
      }
     },
     "metadata": {},
     "output_type": "display_data"
    }
   ],
   "source": [
    "# Create scatter plot of `PC2` vs `PC1`\n",
    "fig = px.scatter(\n",
    "    data_frame=X_pca,\n",
    "    x=\"PC1\",\n",
    "    y=\"PC2\",\n",
    "    color=labels,\n",
    "    title=\"PCA Representation of Clusters\"\n",
    ")\n",
    "\n",
    "fig.update_layout(xaxis_title=\"PC1\", yaxis_title=\"PC2\")\n",
    "fig.show()"
   ]
  },
  {
   "cell_type": "code",
   "execution_count": null,
   "metadata": {},
   "outputs": [],
   "source": []
  }
 ],
 "metadata": {
  "kernelspec": {
   "display_name": ".venv",
   "language": "python",
   "name": "python3"
  },
  "language_info": {
   "codemirror_mode": {
    "name": "ipython",
    "version": 3
   },
   "file_extension": ".py",
   "mimetype": "text/x-python",
   "name": "python",
   "nbconvert_exporter": "python",
   "pygments_lexer": "ipython3",
   "version": "3.10.2"
  },
  "orig_nbformat": 4,
  "vscode": {
   "interpreter": {
    "hash": "d56539c1f9657a087b7c84b817d3d601f6f33b56a00e3df6aa59a81dcb9165c6"
   }
  }
 },
 "nbformat": 4,
 "nbformat_minor": 2
}
